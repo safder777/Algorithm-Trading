{
 "cells": [
  {
   "cell_type": "code",
   "execution_count": 1,
   "id": "6d007ab8",
   "metadata": {},
   "outputs": [],
   "source": [
    "import yfinance as yf\n",
    "import numpy as np"
   ]
  },
  {
   "cell_type": "code",
   "execution_count": 32,
   "id": "692a9677",
   "metadata": {},
   "outputs": [],
   "source": [
    "tickers=['^GSPC','GC=F','TSLA']"
   ]
  },
  {
   "cell_type": "code",
   "execution_count": 33,
   "id": "a4de470c",
   "metadata": {},
   "outputs": [
    {
     "name": "stdout",
     "output_type": "stream",
     "text": [
      "[*********************100%%**********************]  3 of 3 completed\n"
     ]
    },
    {
     "data": {
      "text/html": [
       "<div>\n",
       "<style scoped>\n",
       "    .dataframe tbody tr th:only-of-type {\n",
       "        vertical-align: middle;\n",
       "    }\n",
       "\n",
       "    .dataframe tbody tr th {\n",
       "        vertical-align: top;\n",
       "    }\n",
       "\n",
       "    .dataframe thead th {\n",
       "        text-align: right;\n",
       "    }\n",
       "</style>\n",
       "<table border=\"1\" class=\"dataframe\">\n",
       "  <thead>\n",
       "    <tr style=\"text-align: right;\">\n",
       "      <th></th>\n",
       "      <th>GC=F</th>\n",
       "      <th>TSLA</th>\n",
       "      <th>^GSPC</th>\n",
       "    </tr>\n",
       "    <tr>\n",
       "      <th>Date</th>\n",
       "      <th></th>\n",
       "      <th></th>\n",
       "      <th></th>\n",
       "    </tr>\n",
       "  </thead>\n",
       "  <tbody>\n",
       "    <tr>\n",
       "      <th>2010-01-04</th>\n",
       "      <td>1117.699951</td>\n",
       "      <td>NaN</td>\n",
       "      <td>1132.989990</td>\n",
       "    </tr>\n",
       "    <tr>\n",
       "      <th>2010-01-05</th>\n",
       "      <td>1118.099976</td>\n",
       "      <td>NaN</td>\n",
       "      <td>1136.520020</td>\n",
       "    </tr>\n",
       "    <tr>\n",
       "      <th>2010-01-06</th>\n",
       "      <td>1135.900024</td>\n",
       "      <td>NaN</td>\n",
       "      <td>1137.140015</td>\n",
       "    </tr>\n",
       "    <tr>\n",
       "      <th>2010-01-07</th>\n",
       "      <td>1133.099976</td>\n",
       "      <td>NaN</td>\n",
       "      <td>1141.689941</td>\n",
       "    </tr>\n",
       "    <tr>\n",
       "      <th>2010-01-08</th>\n",
       "      <td>1138.199951</td>\n",
       "      <td>NaN</td>\n",
       "      <td>1144.979980</td>\n",
       "    </tr>\n",
       "    <tr>\n",
       "      <th>...</th>\n",
       "      <td>...</td>\n",
       "      <td>...</td>\n",
       "      <td>...</td>\n",
       "    </tr>\n",
       "    <tr>\n",
       "      <th>2024-06-14</th>\n",
       "      <td>2331.399902</td>\n",
       "      <td>178.009995</td>\n",
       "      <td>5431.600098</td>\n",
       "    </tr>\n",
       "    <tr>\n",
       "      <th>2024-06-17</th>\n",
       "      <td>2312.399902</td>\n",
       "      <td>187.440002</td>\n",
       "      <td>5473.229980</td>\n",
       "    </tr>\n",
       "    <tr>\n",
       "      <th>2024-06-18</th>\n",
       "      <td>2330.399902</td>\n",
       "      <td>184.860001</td>\n",
       "      <td>5487.029785</td>\n",
       "    </tr>\n",
       "    <tr>\n",
       "      <th>2024-06-20</th>\n",
       "      <td>2353.800049</td>\n",
       "      <td>181.570007</td>\n",
       "      <td>5473.169922</td>\n",
       "    </tr>\n",
       "    <tr>\n",
       "      <th>2024-06-21</th>\n",
       "      <td>2329.800049</td>\n",
       "      <td>181.750000</td>\n",
       "      <td>5465.790039</td>\n",
       "    </tr>\n",
       "  </tbody>\n",
       "</table>\n",
       "<p>3642 rows × 3 columns</p>\n",
       "</div>"
      ],
      "text/plain": [
       "                   GC=F        TSLA        ^GSPC\n",
       "Date                                            \n",
       "2010-01-04  1117.699951         NaN  1132.989990\n",
       "2010-01-05  1118.099976         NaN  1136.520020\n",
       "2010-01-06  1135.900024         NaN  1137.140015\n",
       "2010-01-07  1133.099976         NaN  1141.689941\n",
       "2010-01-08  1138.199951         NaN  1144.979980\n",
       "...                 ...         ...          ...\n",
       "2024-06-14  2331.399902  178.009995  5431.600098\n",
       "2024-06-17  2312.399902  187.440002  5473.229980\n",
       "2024-06-18  2330.399902  184.860001  5487.029785\n",
       "2024-06-20  2353.800049  181.570007  5473.169922\n",
       "2024-06-21  2329.800049  181.750000  5465.790039\n",
       "\n",
       "[3642 rows x 3 columns]"
      ]
     },
     "execution_count": 33,
     "metadata": {},
     "output_type": "execute_result"
    }
   ],
   "source": [
    "df=yf.download(tickers,start='2010-01-01')['Adj Close']\n",
    "df"
   ]
  },
  {
   "cell_type": "code",
   "execution_count": 34,
   "id": "d2a78fba",
   "metadata": {},
   "outputs": [
    {
     "data": {
      "text/html": [
       "<div>\n",
       "<style scoped>\n",
       "    .dataframe tbody tr th:only-of-type {\n",
       "        vertical-align: middle;\n",
       "    }\n",
       "\n",
       "    .dataframe tbody tr th {\n",
       "        vertical-align: top;\n",
       "    }\n",
       "\n",
       "    .dataframe thead th {\n",
       "        text-align: right;\n",
       "    }\n",
       "</style>\n",
       "<table border=\"1\" class=\"dataframe\">\n",
       "  <thead>\n",
       "    <tr style=\"text-align: right;\">\n",
       "      <th></th>\n",
       "      <th>GC=F</th>\n",
       "      <th>TSLA</th>\n",
       "      <th>^GSPC</th>\n",
       "    </tr>\n",
       "    <tr>\n",
       "      <th>Date</th>\n",
       "      <th></th>\n",
       "      <th></th>\n",
       "      <th></th>\n",
       "    </tr>\n",
       "  </thead>\n",
       "  <tbody>\n",
       "    <tr>\n",
       "      <th>2010-01-04</th>\n",
       "      <td>NaN</td>\n",
       "      <td>NaN</td>\n",
       "      <td>NaN</td>\n",
       "    </tr>\n",
       "    <tr>\n",
       "      <th>2010-01-05</th>\n",
       "      <td>0.000358</td>\n",
       "      <td>NaN</td>\n",
       "      <td>0.003111</td>\n",
       "    </tr>\n",
       "    <tr>\n",
       "      <th>2010-01-06</th>\n",
       "      <td>0.015795</td>\n",
       "      <td>NaN</td>\n",
       "      <td>0.000545</td>\n",
       "    </tr>\n",
       "    <tr>\n",
       "      <th>2010-01-07</th>\n",
       "      <td>-0.002468</td>\n",
       "      <td>NaN</td>\n",
       "      <td>0.003993</td>\n",
       "    </tr>\n",
       "    <tr>\n",
       "      <th>2010-01-08</th>\n",
       "      <td>0.004491</td>\n",
       "      <td>NaN</td>\n",
       "      <td>0.002878</td>\n",
       "    </tr>\n",
       "    <tr>\n",
       "      <th>...</th>\n",
       "      <td>...</td>\n",
       "      <td>...</td>\n",
       "      <td>...</td>\n",
       "    </tr>\n",
       "    <tr>\n",
       "      <th>2024-06-14</th>\n",
       "      <td>0.013473</td>\n",
       "      <td>-0.024746</td>\n",
       "      <td>-0.000394</td>\n",
       "    </tr>\n",
       "    <tr>\n",
       "      <th>2024-06-17</th>\n",
       "      <td>-0.008183</td>\n",
       "      <td>0.051619</td>\n",
       "      <td>0.007635</td>\n",
       "    </tr>\n",
       "    <tr>\n",
       "      <th>2024-06-18</th>\n",
       "      <td>0.007754</td>\n",
       "      <td>-0.013860</td>\n",
       "      <td>0.002518</td>\n",
       "    </tr>\n",
       "    <tr>\n",
       "      <th>2024-06-20</th>\n",
       "      <td>0.009991</td>\n",
       "      <td>-0.017957</td>\n",
       "      <td>-0.002529</td>\n",
       "    </tr>\n",
       "    <tr>\n",
       "      <th>2024-06-21</th>\n",
       "      <td>-0.010249</td>\n",
       "      <td>0.000991</td>\n",
       "      <td>-0.001349</td>\n",
       "    </tr>\n",
       "  </tbody>\n",
       "</table>\n",
       "<p>3642 rows × 3 columns</p>\n",
       "</div>"
      ],
      "text/plain": [
       "                GC=F      TSLA     ^GSPC\n",
       "Date                                    \n",
       "2010-01-04       NaN       NaN       NaN\n",
       "2010-01-05  0.000358       NaN  0.003111\n",
       "2010-01-06  0.015795       NaN  0.000545\n",
       "2010-01-07 -0.002468       NaN  0.003993\n",
       "2010-01-08  0.004491       NaN  0.002878\n",
       "...              ...       ...       ...\n",
       "2024-06-14  0.013473 -0.024746 -0.000394\n",
       "2024-06-17 -0.008183  0.051619  0.007635\n",
       "2024-06-18  0.007754 -0.013860  0.002518\n",
       "2024-06-20  0.009991 -0.017957 -0.002529\n",
       "2024-06-21 -0.010249  0.000991 -0.001349\n",
       "\n",
       "[3642 rows x 3 columns]"
      ]
     },
     "execution_count": 34,
     "metadata": {},
     "output_type": "execute_result"
    }
   ],
   "source": [
    "ret_df=np.log(df/df.shift(1))\n",
    "ret_df"
   ]
  },
  {
   "cell_type": "code",
   "execution_count": 35,
   "id": "eb67669f",
   "metadata": {},
   "outputs": [
    {
     "data": {
      "text/html": [
       "<div>\n",
       "<style scoped>\n",
       "    .dataframe tbody tr th:only-of-type {\n",
       "        vertical-align: middle;\n",
       "    }\n",
       "\n",
       "    .dataframe tbody tr th {\n",
       "        vertical-align: top;\n",
       "    }\n",
       "\n",
       "    .dataframe thead th {\n",
       "        text-align: right;\n",
       "    }\n",
       "</style>\n",
       "<table border=\"1\" class=\"dataframe\">\n",
       "  <thead>\n",
       "    <tr style=\"text-align: right;\">\n",
       "      <th></th>\n",
       "      <th>GC=F</th>\n",
       "      <th>TSLA</th>\n",
       "      <th>^GSPC</th>\n",
       "    </tr>\n",
       "  </thead>\n",
       "  <tbody>\n",
       "    <tr>\n",
       "      <th>GC=F</th>\n",
       "      <td>1.000000</td>\n",
       "      <td>0.048173</td>\n",
       "      <td>0.04399</td>\n",
       "    </tr>\n",
       "    <tr>\n",
       "      <th>TSLA</th>\n",
       "      <td>0.048173</td>\n",
       "      <td>1.000000</td>\n",
       "      <td>0.43162</td>\n",
       "    </tr>\n",
       "    <tr>\n",
       "      <th>^GSPC</th>\n",
       "      <td>0.043990</td>\n",
       "      <td>0.431620</td>\n",
       "      <td>1.00000</td>\n",
       "    </tr>\n",
       "  </tbody>\n",
       "</table>\n",
       "</div>"
      ],
      "text/plain": [
       "           GC=F      TSLA    ^GSPC\n",
       "GC=F   1.000000  0.048173  0.04399\n",
       "TSLA   0.048173  1.000000  0.43162\n",
       "^GSPC  0.043990  0.431620  1.00000"
      ]
     },
     "execution_count": 35,
     "metadata": {},
     "output_type": "execute_result"
    }
   ],
   "source": [
    "ret_df.corr()"
   ]
  },
  {
   "cell_type": "code",
   "execution_count": 36,
   "id": "b020794e",
   "metadata": {},
   "outputs": [
    {
     "data": {
      "text/plain": [
       "<Axes: xlabel='Date'>"
      ]
     },
     "execution_count": 36,
     "metadata": {},
     "output_type": "execute_result"
    },
    {
     "data": {
      "image/png": "[encoded data removed]",
      "text/plain": [
       "<Figure size 640x480 with 1 Axes>"
      ]
     },
     "metadata": {},
     "output_type": "display_data"
    }
   ],
   "source": [
    "ret_df.cumsum().plot()"
   ]
  },
  {
   "cell_type": "code",
   "execution_count": 37,
   "id": "7e3aaa55",
   "metadata": {},
   "outputs": [
    {
     "data": {
      "text/plain": [
       "GC=F     0.000214\n",
       "TSLA     0.001345\n",
       "^GSPC    0.000432\n",
       "dtype: float64"
      ]
     },
     "execution_count": 37,
     "metadata": {},
     "output_type": "execute_result"
    }
   ],
   "source": [
    "ret_df.mean()"
   ]
  },
  {
   "cell_type": "code",
   "execution_count": 38,
   "id": "3bfeabb2",
   "metadata": {},
   "outputs": [
    {
     "data": {
      "text/plain": [
       "GC=F     0.010063\n",
       "TSLA     0.035655\n",
       "^GSPC    0.010957\n",
       "dtype: float64"
      ]
     },
     "execution_count": 38,
     "metadata": {},
     "output_type": "execute_result"
    }
   ],
   "source": [
    "ret_df.std()"
   ]
  },
  {
   "cell_type": "code",
   "execution_count": 39,
   "id": "beb8e5b1",
   "metadata": {},
   "outputs": [
    {
     "data": {
      "text/plain": [
       "array([0.33333333, 0.33333333, 0.33333333])"
      ]
     },
     "execution_count": 39,
     "metadata": {},
     "output_type": "execute_result"
    }
   ],
   "source": [
    "W=np.ones(len(ret_df.columns))/(np.ones(len(ret_df.columns))).sum()\n",
    "W #weights vector"
   ]
  },
  {
   "cell_type": "code",
   "execution_count": 40,
   "id": "ba6390b2",
   "metadata": {},
   "outputs": [
    {
     "data": {
      "text/plain": [
       "0.0006640028358454438"
      ]
     },
     "execution_count": 40,
     "metadata": {},
     "output_type": "execute_result"
    }
   ],
   "source": [
    "(W*ret_df.mean()).sum()"
   ]
  },
  {
   "cell_type": "code",
   "execution_count": 41,
   "id": "fbe8da87",
   "metadata": {},
   "outputs": [
    {
     "data": {
      "text/plain": [
       "0.0006640028358454438"
      ]
     },
     "execution_count": 41,
     "metadata": {},
     "output_type": "execute_result"
    }
   ],
   "source": [
    "ret_df.mean().dot(W)"
   ]
  },
  {
   "cell_type": "code",
   "execution_count": 42,
   "id": "a76db777",
   "metadata": {},
   "outputs": [
    {
     "data": {
      "text/plain": [
       "GC=F     0.000214\n",
       "TSLA     0.001345\n",
       "^GSPC    0.000432\n",
       "dtype: float64"
      ]
     },
     "execution_count": 42,
     "metadata": {},
     "output_type": "execute_result"
    }
   ],
   "source": [
    "ret_df.mean()"
   ]
  },
  {
   "cell_type": "code",
   "execution_count": 43,
   "id": "cee9be27",
   "metadata": {},
   "outputs": [
    {
     "data": {
      "text/plain": [
       "GC=F     0.010063\n",
       "TSLA     0.035655\n",
       "^GSPC    0.010957\n",
       "dtype: float64"
      ]
     },
     "execution_count": 43,
     "metadata": {},
     "output_type": "execute_result"
    }
   ],
   "source": [
    "ret_df.std()"
   ]
  },
  {
   "cell_type": "markdown",
   "id": "ceea62dc",
   "metadata": {},
   "source": [
    "### Given Data\n",
    "\n",
    "#### Covariance Matrix (\\( \\boldsymbol{\\Sigma} \\))\n",
    "\n",
    "\\[ \n",
    "\\boldsymbol{\\Sigma} = \\begin{bmatrix}\n",
    "\\sigma_{AA} & \\sigma_{AB} & \\sigma_{AC} \\\\\n",
    "\\sigma_{BA} & \\sigma_{BB} & \\sigma_{BC} \\\\\n",
    "\\sigma_{CA} & \\sigma_{CB} & \\sigma_{CC}\n",
    "\\end{bmatrix} \n",
    "\\]\n",
    "\n",
    "#### Portfolio Weights Vector (\\( \\mathbf{w} \\))\n",
    "\n",
    "\\[ \n",
    "\\mathbf{w} = \\begin{bmatrix}\n",
    "w_A \\\\\n",
    "w_B \\\\\n",
    "w_C\n",
    "\\end{bmatrix} \n",
    "\\]\n",
    "\n",
    "### Calculating the Portfolio Variance\n",
    "\n",
    "#### Step 1: Intermediate Product (\\( \\boldsymbol{\\Sigma} \\mathbf{w} \\))\n",
    "\n",
    "\\[ \n",
    "\\boldsymbol{\\Sigma} \\mathbf{w} = \\begin{bmatrix}\n",
    "\\sigma_{AA} & \\sigma_{AB} & \\sigma_{AC} \\\\\n",
    "\\sigma_{BA} & \\sigma_{BB} & \\sigma_{BC} \\\\\n",
    "\\sigma_{CA} & \\sigma_{CB} & \\sigma_{CC}\n",
    "\\end{bmatrix} \\begin{bmatrix}\n",
    "w_A \\\\\n",
    "w_B \\\\\n",
    "w_C\n",
    "\\end{bmatrix} \n",
    "\\]\n",
    "\n",
    "This is computed as:\n",
    "\n",
    "\\[ \n",
    "\\boldsymbol{\\Sigma} \\mathbf{w} = \\begin{bmatrix}\n",
    "(\\sigma_{AA} \\cdot w_A) + (\\sigma_{AB} \\cdot w_B) + (\\sigma_{AC} \\cdot w_C) \\\\\n",
    "(\\sigma_{BA} \\cdot w_A) + (\\sigma_{BB} \\cdot w_B) + (\\sigma_{BC} \\cdot w_C) \\\\\n",
    "(\\sigma_{CA} \\cdot w_A) + (\\sigma_{CB} \\cdot w_B) + (\\sigma_{CC} \\cdot w_C)\n",
    "\\end{bmatrix} \n",
    "\\]\n",
    "\n",
    "#### Step 2: Final Product (\\( \\mathbf{w}^T (\\boldsymbol{\\Sigma} \\mathbf{w}) \\))\n",
    "\n",
    "\\[ \n",
    "\\sigma_p^2 = \\mathbf{w}^T (\\boldsymbol{\\Sigma} \\mathbf{w}) = \\begin{bmatrix}\n",
    "w_A & w_B & w_C\n",
    "\\end{bmatrix} \\begin{bmatrix}\n",
    "(\\sigma_{AA} \\cdot w_A) + (\\sigma_{AB} \\cdot w_B) + (\\sigma_{AC} \\cdot w_C) \\\\\n",
    "(\\sigma_{BA} \\cdot w_A) + (\\sigma_{BB} \\cdot w_B) + (\\sigma_{BC} \\cdot w_C) \\\\\n",
    "(\\sigma_{CA} \\cdot w_A) + (\\sigma_{CB} \\cdot w_B) + (\\sigma_{CC} \\cdot w_C)\n",
    "\\end{bmatrix} \n",
    "\\]\n",
    "\n",
    "This is computed as:\n",
    "\n",
    "\\[ \n",
    "\\sigma_p^2 = (w_A \\cdot (\\sigma_{AA} \\cdot w_A + \\sigma_{AB} \\cdot w_B + \\sigma_{AC} \\cdot w_C)) + (w_B \\cdot (\\sigma_{BA} \\cdot w_A + \\sigma_{BB} \\cdot w_B + \\sigma_{BC} \\cdot w_C)) + (w_C \\cdot (\\sigma_{CA} \\cdot w_A + \\sigma_{CB} \\cdot w_B + \\sigma_{CC} \\cdot w_C)) \n",
    "\\]\n",
    "\n",
    "Simplifying further:\n",
    "\n",
    "\\[ \n",
    "\\sigma_p^2 = w_A^2 \\cdot \\sigma_{AA} + w_A w_B \\cdot (\\sigma_{AB} + \\sigma_{BA}) + w_A w_C \\cdot (\\sigma_{AC} + \\sigma_{CA}) + w_B^2 \\cdot \\sigma_{BB} + w_B w_C \\cdot (\\sigma_{BC} + \\sigma_{CB}) + w_C^2 \\cdot \\sigma_{CC}\n",
    "\\]\n",
    "\n",
    "### Result\n",
    "\n",
    "The variance of the portfolio (\\( \\sigma_p^2 \\)) in terms of variables is:\n",
    "\n",
    "\\[ \n",
    "\\sigma_p^2 = w_A^2 \\cdot \\sigma_{AA} + w_A w_B \\cdot (\\sigma_{AB} + \\sigma_{BA}) + w_A w_C \\cdot (\\sigma_{AC} + \\sigma_{CA}) + w_B^2 \\cdot \\sigma_{BB} + w_B w_C \\cdot (\\sigma_{BC} + \\sigma_{CB}) + w_C^2 \\cdot \\sigma_{CC}\n",
    "\\]\n",
    "\n",
    "This expression captures the portfolio variance using the covariance matrix and portfolio weights in variable form.\n"
   ]
  },
  {
   "cell_type": "code",
   "execution_count": 44,
   "id": "cfa385fd",
   "metadata": {},
   "outputs": [
    {
     "data": {
      "text/html": [
       "<div>\n",
       "<style scoped>\n",
       "    .dataframe tbody tr th:only-of-type {\n",
       "        vertical-align: middle;\n",
       "    }\n",
       "\n",
       "    .dataframe tbody tr th {\n",
       "        vertical-align: top;\n",
       "    }\n",
       "\n",
       "    .dataframe thead th {\n",
       "        text-align: right;\n",
       "    }\n",
       "</style>\n",
       "<table border=\"1\" class=\"dataframe\">\n",
       "  <thead>\n",
       "    <tr style=\"text-align: right;\">\n",
       "      <th></th>\n",
       "      <th>GC=F</th>\n",
       "      <th>TSLA</th>\n",
       "      <th>^GSPC</th>\n",
       "    </tr>\n",
       "  </thead>\n",
       "  <tbody>\n",
       "    <tr>\n",
       "      <th>GC=F</th>\n",
       "      <td>0.000101</td>\n",
       "      <td>0.000017</td>\n",
       "      <td>0.000005</td>\n",
       "    </tr>\n",
       "    <tr>\n",
       "      <th>TSLA</th>\n",
       "      <td>0.000017</td>\n",
       "      <td>0.001271</td>\n",
       "      <td>0.000167</td>\n",
       "    </tr>\n",
       "    <tr>\n",
       "      <th>^GSPC</th>\n",
       "      <td>0.000005</td>\n",
       "      <td>0.000167</td>\n",
       "      <td>0.000120</td>\n",
       "    </tr>\n",
       "  </tbody>\n",
       "</table>\n",
       "</div>"
      ],
      "text/plain": [
       "           GC=F      TSLA     ^GSPC\n",
       "GC=F   0.000101  0.000017  0.000005\n",
       "TSLA   0.000017  0.001271  0.000167\n",
       "^GSPC  0.000005  0.000167  0.000120"
      ]
     },
     "execution_count": 44,
     "metadata": {},
     "output_type": "execute_result"
    }
   ],
   "source": [
    "ret_df.cov()"
   ]
  },
  {
   "cell_type": "code",
   "execution_count": 45,
   "id": "373e27b0",
   "metadata": {},
   "outputs": [
    {
     "data": {
      "text/plain": [
       "3.644444444444444e-05"
      ]
     },
     "execution_count": 45,
     "metadata": {},
     "output_type": "execute_result"
    }
   ],
   "source": [
    "W[0]**2* 0.000101 +W[1]**2*0.000127 + 2*W[0]*W[1]*0.00005"
   ]
  },
  {
   "cell_type": "code",
   "execution_count": 46,
   "id": "f76850e0",
   "metadata": {},
   "outputs": [
    {
     "data": {
      "text/plain": [
       "0.009055385138137417"
      ]
     },
     "execution_count": 46,
     "metadata": {},
     "output_type": "execute_result"
    }
   ],
   "source": [
    "8.2e-05**(1/2)"
   ]
  },
  {
   "cell_type": "code",
   "execution_count": 47,
   "id": "546238f3",
   "metadata": {},
   "outputs": [
    {
     "data": {
      "text/plain": [
       "0.00020797867593959623"
      ]
     },
     "execution_count": 47,
     "metadata": {},
     "output_type": "execute_result"
    }
   ],
   "source": [
    "W.T.dot(ret_df.cov().dot(W))"
   ]
  },
  {
   "cell_type": "code",
   "execution_count": 48,
   "id": "cebc8e2a",
   "metadata": {},
   "outputs": [
    {
     "data": {
      "text/plain": [
       "0.014421465804126716"
      ]
     },
     "execution_count": 48,
     "metadata": {},
     "output_type": "execute_result"
    }
   ],
   "source": [
    "(W.T.dot(ret_df.cov().dot(W)))**0.5"
   ]
  },
  {
   "cell_type": "code",
   "execution_count": 49,
   "id": "6e21b1f9",
   "metadata": {},
   "outputs": [
    {
     "data": {
      "text/plain": [
       "0.0006640028358454438"
      ]
     },
     "execution_count": 49,
     "metadata": {},
     "output_type": "execute_result"
    }
   ],
   "source": [
    "ret_df.mean().dot(W)"
   ]
  },
  {
   "cell_type": "code",
   "execution_count": 50,
   "id": "479804b2",
   "metadata": {},
   "outputs": [
    {
     "data": {
      "text/plain": [
       "GC=F     0.000214\n",
       "TSLA     0.001345\n",
       "^GSPC    0.000432\n",
       "dtype: float64"
      ]
     },
     "execution_count": 50,
     "metadata": {},
     "output_type": "execute_result"
    }
   ],
   "source": [
    "ret_df.mean()"
   ]
  },
  {
   "cell_type": "code",
   "execution_count": 51,
   "id": "b9bff811",
   "metadata": {},
   "outputs": [
    {
     "data": {
      "text/plain": [
       "GC=F     0.010063\n",
       "TSLA     0.035655\n",
       "^GSPC    0.010957\n",
       "dtype: float64"
      ]
     },
     "execution_count": 51,
     "metadata": {},
     "output_type": "execute_result"
    }
   ],
   "source": [
    "ret_df.std()"
   ]
  },
  {
   "cell_type": "code",
   "execution_count": 52,
   "id": "d27a7769",
   "metadata": {},
   "outputs": [
    {
     "data": {
      "text/plain": [
       "GC=F     0.021295\n",
       "TSLA     0.037735\n",
       "^GSPC    0.039451\n",
       "dtype: float64"
      ]
     },
     "execution_count": 52,
     "metadata": {},
     "output_type": "execute_result"
    }
   ],
   "source": [
    "ret_df.mean()/ret_df.std()"
   ]
  },
  {
   "cell_type": "code",
   "execution_count": 53,
   "id": "eeec0056",
   "metadata": {},
   "outputs": [
    {
     "data": {
      "text/plain": [
       "0.046042673114090715"
      ]
     },
     "execution_count": 53,
     "metadata": {},
     "output_type": "execute_result"
    }
   ],
   "source": [
    "ret_df.mean().dot(W)/(W.T.dot(ret_df.cov().dot(W)))**(0.5) #this gives the sharpe ratio\n"
   ]
  },
  {
   "cell_type": "code",
   "execution_count": null,
   "id": "f43ccec3",
   "metadata": {},
   "outputs": [],
   "source": [
    "#https://www.youtube.com/watch?v=t4jrCnrpgdw"
   ]
  }
 ],
 "metadata": {
  "kernelspec": {
   "display_name": "Python 3 (ipykernel)",
   "language": "python",
   "name": "python3"
  },
  "language_info": {
   "codemirror_mode": {
    "name": "ipython",
    "version": 3
   },
   "file_extension": ".py",
   "mimetype": "text/x-python",
   "name": "python",
   "nbconvert_exporter": "python",
   "pygments_lexer": "ipython3",
   "version": "3.11.4"
  }
 },
 "nbformat": 4,
 "nbformat_minor": 5
}
