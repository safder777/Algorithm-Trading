{
 "cells": [
  {
   "cell_type": "code",
   "execution_count": 124,
   "id": "694a40f0",
   "metadata": {},
   "outputs": [],
   "source": [
    "import yfinance as yf\n",
    "import pandas as pd\n",
    "import datetime as dt"
   ]
  },
  {
   "cell_type": "code",
   "execution_count": 125,
   "id": "fe940c8e",
   "metadata": {},
   "outputs": [],
   "source": [
    "asset='TSLA'"
   ]
  },
  {
   "cell_type": "code",
   "execution_count": 126,
   "id": "0c6ef60e",
   "metadata": {},
   "outputs": [
    {
     "name": "stdout",
     "output_type": "stream",
     "text": [
      "[*********************100%%**********************]  1 of 1 completed\n"
     ]
    }
   ],
   "source": [
    "intraday=yf.download(asset,start='2024-04-21',end='2024-04-28',interval='1m') ## prices of only 7days from last 30 days is allowed"
   ]
  },
  {
   "cell_type": "code",
   "execution_count": 127,
   "id": "d1914bee",
   "metadata": {},
   "outputs": [
    {
     "data": {
      "text/html": [
       "<div>\n",
       "<style scoped>\n",
       "    .dataframe tbody tr th:only-of-type {\n",
       "        vertical-align: middle;\n",
       "    }\n",
       "\n",
       "    .dataframe tbody tr th {\n",
       "        vertical-align: top;\n",
       "    }\n",
       "\n",
       "    .dataframe thead th {\n",
       "        text-align: right;\n",
       "    }\n",
       "</style>\n",
       "<table border=\"1\" class=\"dataframe\">\n",
       "  <thead>\n",
       "    <tr style=\"text-align: right;\">\n",
       "      <th></th>\n",
       "      <th>Open</th>\n",
       "      <th>High</th>\n",
       "      <th>Low</th>\n",
       "      <th>Close</th>\n",
       "      <th>Adj Close</th>\n",
       "      <th>Volume</th>\n",
       "    </tr>\n",
       "    <tr>\n",
       "      <th>Datetime</th>\n",
       "      <th></th>\n",
       "      <th></th>\n",
       "      <th></th>\n",
       "      <th></th>\n",
       "      <th></th>\n",
       "      <th></th>\n",
       "    </tr>\n",
       "  </thead>\n",
       "  <tbody>\n",
       "    <tr>\n",
       "      <th>2024-04-22 09:30:00-04:00</th>\n",
       "      <td>140.602005</td>\n",
       "      <td>141.350006</td>\n",
       "      <td>139.619995</td>\n",
       "      <td>140.328796</td>\n",
       "      <td>140.328796</td>\n",
       "      <td>7938147</td>\n",
       "    </tr>\n",
       "    <tr>\n",
       "      <th>2024-04-22 09:31:00-04:00</th>\n",
       "      <td>140.315994</td>\n",
       "      <td>141.000000</td>\n",
       "      <td>139.429993</td>\n",
       "      <td>139.580002</td>\n",
       "      <td>139.580002</td>\n",
       "      <td>1197473</td>\n",
       "    </tr>\n",
       "    <tr>\n",
       "      <th>2024-04-22 09:32:00-04:00</th>\n",
       "      <td>139.565002</td>\n",
       "      <td>139.880005</td>\n",
       "      <td>138.802505</td>\n",
       "      <td>139.330002</td>\n",
       "      <td>139.330002</td>\n",
       "      <td>1306517</td>\n",
       "    </tr>\n",
       "    <tr>\n",
       "      <th>2024-04-22 09:33:00-04:00</th>\n",
       "      <td>139.320007</td>\n",
       "      <td>139.770004</td>\n",
       "      <td>138.840607</td>\n",
       "      <td>139.443695</td>\n",
       "      <td>139.443695</td>\n",
       "      <td>981321</td>\n",
       "    </tr>\n",
       "    <tr>\n",
       "      <th>2024-04-22 09:34:00-04:00</th>\n",
       "      <td>139.449997</td>\n",
       "      <td>139.520004</td>\n",
       "      <td>138.809998</td>\n",
       "      <td>139.135300</td>\n",
       "      <td>139.135300</td>\n",
       "      <td>920063</td>\n",
       "    </tr>\n",
       "    <tr>\n",
       "      <th>...</th>\n",
       "      <td>...</td>\n",
       "      <td>...</td>\n",
       "      <td>...</td>\n",
       "      <td>...</td>\n",
       "      <td>...</td>\n",
       "      <td>...</td>\n",
       "    </tr>\n",
       "    <tr>\n",
       "      <th>2024-04-26 15:55:00-04:00</th>\n",
       "      <td>168.350006</td>\n",
       "      <td>168.679993</td>\n",
       "      <td>168.345001</td>\n",
       "      <td>168.500000</td>\n",
       "      <td>168.500000</td>\n",
       "      <td>508934</td>\n",
       "    </tr>\n",
       "    <tr>\n",
       "      <th>2024-04-26 15:56:00-04:00</th>\n",
       "      <td>168.509995</td>\n",
       "      <td>168.628494</td>\n",
       "      <td>168.449997</td>\n",
       "      <td>168.490005</td>\n",
       "      <td>168.490005</td>\n",
       "      <td>323168</td>\n",
       "    </tr>\n",
       "    <tr>\n",
       "      <th>2024-04-26 15:57:00-04:00</th>\n",
       "      <td>168.479996</td>\n",
       "      <td>168.669998</td>\n",
       "      <td>168.339996</td>\n",
       "      <td>168.360901</td>\n",
       "      <td>168.360901</td>\n",
       "      <td>375287</td>\n",
       "    </tr>\n",
       "    <tr>\n",
       "      <th>2024-04-26 15:58:00-04:00</th>\n",
       "      <td>168.354996</td>\n",
       "      <td>168.449997</td>\n",
       "      <td>168.339996</td>\n",
       "      <td>168.387802</td>\n",
       "      <td>168.387802</td>\n",
       "      <td>254546</td>\n",
       "    </tr>\n",
       "    <tr>\n",
       "      <th>2024-04-26 15:59:00-04:00</th>\n",
       "      <td>168.369995</td>\n",
       "      <td>168.429993</td>\n",
       "      <td>168.179993</td>\n",
       "      <td>168.289993</td>\n",
       "      <td>168.289993</td>\n",
       "      <td>1188577</td>\n",
       "    </tr>\n",
       "  </tbody>\n",
       "</table>\n",
       "<p>1949 rows × 6 columns</p>\n",
       "</div>"
      ],
      "text/plain": [
       "                                 Open        High         Low       Close  \\\n",
       "Datetime                                                                    \n",
       "2024-04-22 09:30:00-04:00  140.602005  141.350006  139.619995  140.328796   \n",
       "2024-04-22 09:31:00-04:00  140.315994  141.000000  139.429993  139.580002   \n",
       "2024-04-22 09:32:00-04:00  139.565002  139.880005  138.802505  139.330002   \n",
       "2024-04-22 09:33:00-04:00  139.320007  139.770004  138.840607  139.443695   \n",
       "2024-04-22 09:34:00-04:00  139.449997  139.520004  138.809998  139.135300   \n",
       "...                               ...         ...         ...         ...   \n",
       "2024-04-26 15:55:00-04:00  168.350006  168.679993  168.345001  168.500000   \n",
       "2024-04-26 15:56:00-04:00  168.509995  168.628494  168.449997  168.490005   \n",
       "2024-04-26 15:57:00-04:00  168.479996  168.669998  168.339996  168.360901   \n",
       "2024-04-26 15:58:00-04:00  168.354996  168.449997  168.339996  168.387802   \n",
       "2024-04-26 15:59:00-04:00  168.369995  168.429993  168.179993  168.289993   \n",
       "\n",
       "                            Adj Close   Volume  \n",
       "Datetime                                        \n",
       "2024-04-22 09:30:00-04:00  140.328796  7938147  \n",
       "2024-04-22 09:31:00-04:00  139.580002  1197473  \n",
       "2024-04-22 09:32:00-04:00  139.330002  1306517  \n",
       "2024-04-22 09:33:00-04:00  139.443695   981321  \n",
       "2024-04-22 09:34:00-04:00  139.135300   920063  \n",
       "...                               ...      ...  \n",
       "2024-04-26 15:55:00-04:00  168.500000   508934  \n",
       "2024-04-26 15:56:00-04:00  168.490005   323168  \n",
       "2024-04-26 15:57:00-04:00  168.360901   375287  \n",
       "2024-04-26 15:58:00-04:00  168.387802   254546  \n",
       "2024-04-26 15:59:00-04:00  168.289993  1188577  \n",
       "\n",
       "[1949 rows x 6 columns]"
      ]
     },
     "execution_count": 127,
     "metadata": {},
     "output_type": "execute_result"
    }
   ],
   "source": [
    "intraday"
   ]
  },
  {
   "cell_type": "code",
   "execution_count": 128,
   "id": "66c09927",
   "metadata": {},
   "outputs": [
    {
     "data": {
      "text/plain": [
       "Open         1.406020e+02\n",
       "High         1.413500e+02\n",
       "Low          1.396200e+02\n",
       "Close        1.403288e+02\n",
       "Adj Close    1.403288e+02\n",
       "Volume       7.938147e+06\n",
       "Name: 2024-04-22 09:30:00-04:00, dtype: float64"
      ]
     },
     "execution_count": 128,
     "metadata": {},
     "output_type": "execute_result"
    }
   ],
   "source": [
    "intraday.iloc[0]"
   ]
  },
  {
   "cell_type": "code",
   "execution_count": 129,
   "id": "e49a7de3",
   "metadata": {},
   "outputs": [],
   "source": [
    "def Intradaytrend(df,entry,exit):\n",
    "    ret_120min=df.iloc[120].Open/df.iloc[0].Open-1  #gives me the return\n",
    "    tickret=df.Open.pct_change()\n",
    "    if ret_120min > entry :\n",
    "        buyprice=df.iloc[121].Open\n",
    "        buytime=df.iloc[121].name #I'm getting time stamp of buying time\n",
    "        cumulated=(tickret.loc[buytime:]+1).cumprod()-1\n",
    "        exittime= cumulated[(cumulated < -exit) | (cumulated > exit)].first_valid_index()\n",
    "        if exittime==None:\n",
    "            exitprice=df.iloc[-1].Open\n",
    "        else:\n",
    "            exitprice=df.loc[exittime + dt.timedelta(minute=1)].Open\n",
    "        profit=exitprice-buyprice\n",
    "        profitrel=profit/buyprice\n",
    "        return profitrel\n",
    "    else:\n",
    "        return None"
   ]
  },
  {
   "cell_type": "code",
   "execution_count": 130,
   "id": "52960b16",
   "metadata": {},
   "outputs": [],
   "source": [
    "Intradaytrend(intraday,0.01,0.01) ## Here output should come , its not coming"
   ]
  },
  {
   "cell_type": "code",
   "execution_count": 131,
   "id": "54b1ea5b",
   "metadata": {},
   "outputs": [
    {
     "name": "stdout",
     "output_type": "stream",
     "text": [
      "[*********************100%%**********************]  1 of 1 completed\n"
     ]
    }
   ],
   "source": [
    "datesframe= yf.download(asset,start='2024-03-30',end='2024-04-28')"
   ]
  },
  {
   "cell_type": "code",
   "execution_count": 132,
   "id": "6c65501c",
   "metadata": {},
   "outputs": [
    {
     "data": {
      "text/plain": [
       "DatetimeIndex(['2024-04-01', '2024-04-02', '2024-04-03', '2024-04-04',\n",
       "               '2024-04-05', '2024-04-08', '2024-04-09', '2024-04-10',\n",
       "               '2024-04-11', '2024-04-12', '2024-04-15', '2024-04-16',\n",
       "               '2024-04-17', '2024-04-18', '2024-04-19', '2024-04-22',\n",
       "               '2024-04-23', '2024-04-24', '2024-04-25', '2024-04-26'],\n",
       "              dtype='datetime64[ns]', name='Date', freq=None)"
      ]
     },
     "execution_count": 132,
     "metadata": {},
     "output_type": "execute_result"
    }
   ],
   "source": [
    "datesframe.index"
   ]
  },
  {
   "cell_type": "code",
   "execution_count": 133,
   "id": "b0b1b8a0",
   "metadata": {},
   "outputs": [
    {
     "name": "stdout",
     "output_type": "stream",
     "text": [
      "[*********************100%%**********************]  1 of 1 completed\n",
      "[*********************100%%**********************]  1 of 1 completed\n",
      "[*********************100%%**********************]  1 of 1 completed\n",
      "[*********************100%%**********************]  1 of 1 completed\n",
      "[*********************100%%**********************]  1 of 1 completed\n",
      "[*********************100%%**********************]  1 of 1 completed\n",
      "[*********************100%%**********************]  1 of 1 completed\n",
      "[*********************100%%**********************]  1 of 1 completed\n",
      "[*********************100%%**********************]  1 of 1 completed\n",
      "[*********************100%%**********************]  1 of 1 completed\n",
      "[*********************100%%**********************]  1 of 1 completed\n",
      "[*********************100%%**********************]  1 of 1 completed\n",
      "[*********************100%%**********************]  1 of 1 completed\n",
      "[*********************100%%**********************]  1 of 1 completed\n",
      "[*********************100%%**********************]  1 of 1 completed\n",
      "[*********************100%%**********************]  1 of 1 completed\n",
      "[*********************100%%**********************]  1 of 1 completed\n",
      "[*********************100%%**********************]  1 of 1 completed\n",
      "[*********************100%%**********************]  1 of 1 completed\n",
      "[*********************100%%**********************]  1 of 1 completed\n"
     ]
    }
   ],
   "source": [
    "frames=[]\n",
    "\n",
    "for i in datesframe.index:\n",
    "    frames.append(yf.download(asset,start=i,end=i+dt.timedelta(days=1),interval='1m'))"
   ]
  },
  {
   "cell_type": "code",
   "execution_count": 141,
   "id": "49e71861",
   "metadata": {},
   "outputs": [],
   "source": [
    "returns=[]\n",
    "\n",
    "for i in frames:\n",
    "    returns.append(Intradaytrend(i,0.01,0.04))"
   ]
  },
  {
   "cell_type": "code",
   "execution_count": 142,
   "id": "3d087e23",
   "metadata": {},
   "outputs": [
    {
     "data": {
      "text/plain": [
       "[None,\n",
       " None,\n",
       " 0.003967148612276286,\n",
       " -0.006620589891892026,\n",
       " None,\n",
       " -0.0038618833807790276,\n",
       " 0.0094260640730491,\n",
       " None,\n",
       " None,\n",
       " None,\n",
       " None,\n",
       " -0.005444075480825236,\n",
       " None,\n",
       " None,\n",
       " None,\n",
       " None,\n",
       " -0.0054302537072680734,\n",
       " None,\n",
       " 0.02415575799387689,\n",
       " None]"
      ]
     },
     "execution_count": 142,
     "metadata": {},
     "output_type": "execute_result"
    }
   ],
   "source": [
    "returns"
   ]
  },
  {
   "cell_type": "code",
   "execution_count": 143,
   "id": "788e8695",
   "metadata": {},
   "outputs": [
    {
     "data": {
      "text/plain": [
       "0    0.002313\n",
       "dtype: float64"
      ]
     },
     "execution_count": 143,
     "metadata": {},
     "output_type": "execute_result"
    }
   ],
   "source": [
    "pd.DataFrame(returns).mean() ## play around with the parameters, here it means we are getting return of 0.23%"
   ]
  },
  {
   "cell_type": "code",
   "execution_count": null,
   "id": "79a2716a",
   "metadata": {},
   "outputs": [],
   "source": []
  },
  {
   "cell_type": "code",
   "execution_count": null,
   "id": "12941779",
   "metadata": {},
   "outputs": [],
   "source": []
  }
 ],
 "metadata": {
  "kernelspec": {
   "display_name": "Python 3 (ipykernel)",
   "language": "python",
   "name": "python3"
  },
  "language_info": {
   "codemirror_mode": {
    "name": "ipython",
    "version": 3
   },
   "file_extension": ".py",
   "mimetype": "text/x-python",
   "name": "python",
   "nbconvert_exporter": "python",
   "pygments_lexer": "ipython3",
   "version": "3.11.4"
  }
 },
 "nbformat": 4,
 "nbformat_minor": 5
}
