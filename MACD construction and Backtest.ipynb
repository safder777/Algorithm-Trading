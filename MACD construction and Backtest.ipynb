{
 "cells": [
  {
   "cell_type": "code",
   "execution_count": 2,
   "id": "f93c21cb",
   "metadata": {},
   "outputs": [],
   "source": [
    "import yfinance as yf\n",
    "import matplotlib.pyplot as plt"
   ]
  },
  {
   "cell_type": "code",
   "execution_count": 42,
   "id": "7d75dd8a",
   "metadata": {},
   "outputs": [
    {
     "name": "stdout",
     "output_type": "stream",
     "text": [
      "[*********************100%%**********************]  1 of 1 completed\n"
     ]
    }
   ],
   "source": [
    "df=yf.download('TSLA',start='2022-11-01')"
   ]
  },
  {
   "cell_type": "code",
   "execution_count": 43,
   "id": "96920847",
   "metadata": {},
   "outputs": [
    {
     "data": {
      "text/html": [
       "<div>\n",
       "<style scoped>\n",
       "    .dataframe tbody tr th:only-of-type {\n",
       "        vertical-align: middle;\n",
       "    }\n",
       "\n",
       "    .dataframe tbody tr th {\n",
       "        vertical-align: top;\n",
       "    }\n",
       "\n",
       "    .dataframe thead th {\n",
       "        text-align: right;\n",
       "    }\n",
       "</style>\n",
       "<table border=\"1\" class=\"dataframe\">\n",
       "  <thead>\n",
       "    <tr style=\"text-align: right;\">\n",
       "      <th></th>\n",
       "      <th>Open</th>\n",
       "      <th>High</th>\n",
       "      <th>Low</th>\n",
       "      <th>Close</th>\n",
       "      <th>Adj Close</th>\n",
       "      <th>Volume</th>\n",
       "    </tr>\n",
       "    <tr>\n",
       "      <th>Date</th>\n",
       "      <th></th>\n",
       "      <th></th>\n",
       "      <th></th>\n",
       "      <th></th>\n",
       "      <th></th>\n",
       "      <th></th>\n",
       "    </tr>\n",
       "  </thead>\n",
       "  <tbody>\n",
       "    <tr>\n",
       "      <th>2022-11-01</th>\n",
       "      <td>234.050003</td>\n",
       "      <td>237.399994</td>\n",
       "      <td>227.279999</td>\n",
       "      <td>227.820007</td>\n",
       "      <td>227.820007</td>\n",
       "      <td>62688800</td>\n",
       "    </tr>\n",
       "    <tr>\n",
       "      <th>2022-11-02</th>\n",
       "      <td>226.039993</td>\n",
       "      <td>227.869995</td>\n",
       "      <td>214.820007</td>\n",
       "      <td>214.979996</td>\n",
       "      <td>214.979996</td>\n",
       "      <td>63070300</td>\n",
       "    </tr>\n",
       "    <tr>\n",
       "      <th>2022-11-03</th>\n",
       "      <td>211.360001</td>\n",
       "      <td>221.199997</td>\n",
       "      <td>210.139999</td>\n",
       "      <td>215.309998</td>\n",
       "      <td>215.309998</td>\n",
       "      <td>56538800</td>\n",
       "    </tr>\n",
       "    <tr>\n",
       "      <th>2022-11-04</th>\n",
       "      <td>222.600006</td>\n",
       "      <td>223.800003</td>\n",
       "      <td>203.080002</td>\n",
       "      <td>207.470001</td>\n",
       "      <td>207.470001</td>\n",
       "      <td>98622200</td>\n",
       "    </tr>\n",
       "    <tr>\n",
       "      <th>2022-11-07</th>\n",
       "      <td>208.649994</td>\n",
       "      <td>208.899994</td>\n",
       "      <td>196.660004</td>\n",
       "      <td>197.080002</td>\n",
       "      <td>197.080002</td>\n",
       "      <td>93916500</td>\n",
       "    </tr>\n",
       "    <tr>\n",
       "      <th>...</th>\n",
       "      <td>...</td>\n",
       "      <td>...</td>\n",
       "      <td>...</td>\n",
       "      <td>...</td>\n",
       "      <td>...</td>\n",
       "      <td>...</td>\n",
       "    </tr>\n",
       "    <tr>\n",
       "      <th>2024-05-06</th>\n",
       "      <td>183.800003</td>\n",
       "      <td>187.559998</td>\n",
       "      <td>182.199997</td>\n",
       "      <td>184.759995</td>\n",
       "      <td>184.759995</td>\n",
       "      <td>84390300</td>\n",
       "    </tr>\n",
       "    <tr>\n",
       "      <th>2024-05-07</th>\n",
       "      <td>182.399994</td>\n",
       "      <td>183.259995</td>\n",
       "      <td>177.399994</td>\n",
       "      <td>177.809998</td>\n",
       "      <td>177.809998</td>\n",
       "      <td>75045900</td>\n",
       "    </tr>\n",
       "    <tr>\n",
       "      <th>2024-05-08</th>\n",
       "      <td>171.589996</td>\n",
       "      <td>176.059998</td>\n",
       "      <td>170.149994</td>\n",
       "      <td>174.720001</td>\n",
       "      <td>174.720001</td>\n",
       "      <td>79969500</td>\n",
       "    </tr>\n",
       "    <tr>\n",
       "      <th>2024-05-09</th>\n",
       "      <td>175.009995</td>\n",
       "      <td>175.619995</td>\n",
       "      <td>171.369995</td>\n",
       "      <td>171.970001</td>\n",
       "      <td>171.970001</td>\n",
       "      <td>65950300</td>\n",
       "    </tr>\n",
       "    <tr>\n",
       "      <th>2024-05-10</th>\n",
       "      <td>173.050003</td>\n",
       "      <td>173.059998</td>\n",
       "      <td>167.750000</td>\n",
       "      <td>168.470001</td>\n",
       "      <td>168.470001</td>\n",
       "      <td>72350200</td>\n",
       "    </tr>\n",
       "  </tbody>\n",
       "</table>\n",
       "<p>383 rows × 6 columns</p>\n",
       "</div>"
      ],
      "text/plain": [
       "                  Open        High         Low       Close   Adj Close  \\\n",
       "Date                                                                     \n",
       "2022-11-01  234.050003  237.399994  227.279999  227.820007  227.820007   \n",
       "2022-11-02  226.039993  227.869995  214.820007  214.979996  214.979996   \n",
       "2022-11-03  211.360001  221.199997  210.139999  215.309998  215.309998   \n",
       "2022-11-04  222.600006  223.800003  203.080002  207.470001  207.470001   \n",
       "2022-11-07  208.649994  208.899994  196.660004  197.080002  197.080002   \n",
       "...                ...         ...         ...         ...         ...   \n",
       "2024-05-06  183.800003  187.559998  182.199997  184.759995  184.759995   \n",
       "2024-05-07  182.399994  183.259995  177.399994  177.809998  177.809998   \n",
       "2024-05-08  171.589996  176.059998  170.149994  174.720001  174.720001   \n",
       "2024-05-09  175.009995  175.619995  171.369995  171.970001  171.970001   \n",
       "2024-05-10  173.050003  173.059998  167.750000  168.470001  168.470001   \n",
       "\n",
       "              Volume  \n",
       "Date                  \n",
       "2022-11-01  62688800  \n",
       "2022-11-02  63070300  \n",
       "2022-11-03  56538800  \n",
       "2022-11-04  98622200  \n",
       "2022-11-07  93916500  \n",
       "...              ...  \n",
       "2024-05-06  84390300  \n",
       "2024-05-07  75045900  \n",
       "2024-05-08  79969500  \n",
       "2024-05-09  65950300  \n",
       "2024-05-10  72350200  \n",
       "\n",
       "[383 rows x 6 columns]"
      ]
     },
     "execution_count": 43,
     "metadata": {},
     "output_type": "execute_result"
    }
   ],
   "source": [
    "df"
   ]
  },
  {
   "cell_type": "code",
   "execution_count": 44,
   "id": "7e1c11c6",
   "metadata": {},
   "outputs": [],
   "source": [
    "def MACD(df):\n",
    "    df['EMA12']= df.Close.ewm(span=12).mean()\n",
    "    df['EMA26']= df.Close.ewm(span=26).mean()\n",
    "    df['MACD']= df.EMA12-df.EMA26\n",
    "    df['signal']=df.MACD.ewm(span=9).mean()\n",
    "    print('indicator addded')"
   ]
  },
  {
   "cell_type": "code",
   "execution_count": 45,
   "id": "8e8c28de",
   "metadata": {},
   "outputs": [
    {
     "name": "stdout",
     "output_type": "stream",
     "text": [
      "indicator addded\n"
     ]
    }
   ],
   "source": [
    "MACD(df)"
   ]
  },
  {
   "cell_type": "code",
   "execution_count": 46,
   "id": "692af908",
   "metadata": {},
   "outputs": [
    {
     "data": {
      "text/html": [
       "<div>\n",
       "<style scoped>\n",
       "    .dataframe tbody tr th:only-of-type {\n",
       "        vertical-align: middle;\n",
       "    }\n",
       "\n",
       "    .dataframe tbody tr th {\n",
       "        vertical-align: top;\n",
       "    }\n",
       "\n",
       "    .dataframe thead th {\n",
       "        text-align: right;\n",
       "    }\n",
       "</style>\n",
       "<table border=\"1\" class=\"dataframe\">\n",
       "  <thead>\n",
       "    <tr style=\"text-align: right;\">\n",
       "      <th></th>\n",
       "      <th>Open</th>\n",
       "      <th>High</th>\n",
       "      <th>Low</th>\n",
       "      <th>Close</th>\n",
       "      <th>Adj Close</th>\n",
       "      <th>Volume</th>\n",
       "      <th>EMA12</th>\n",
       "      <th>EMA26</th>\n",
       "      <th>MACD</th>\n",
       "      <th>signal</th>\n",
       "    </tr>\n",
       "    <tr>\n",
       "      <th>Date</th>\n",
       "      <th></th>\n",
       "      <th></th>\n",
       "      <th></th>\n",
       "      <th></th>\n",
       "      <th></th>\n",
       "      <th></th>\n",
       "      <th></th>\n",
       "      <th></th>\n",
       "      <th></th>\n",
       "      <th></th>\n",
       "    </tr>\n",
       "  </thead>\n",
       "  <tbody>\n",
       "    <tr>\n",
       "      <th>2022-11-01</th>\n",
       "      <td>234.050003</td>\n",
       "      <td>237.399994</td>\n",
       "      <td>227.279999</td>\n",
       "      <td>227.820007</td>\n",
       "      <td>227.820007</td>\n",
       "      <td>62688800</td>\n",
       "      <td>227.820007</td>\n",
       "      <td>227.820007</td>\n",
       "      <td>0.000000</td>\n",
       "      <td>0.000000</td>\n",
       "    </tr>\n",
       "    <tr>\n",
       "      <th>2022-11-02</th>\n",
       "      <td>226.039993</td>\n",
       "      <td>227.869995</td>\n",
       "      <td>214.820007</td>\n",
       "      <td>214.979996</td>\n",
       "      <td>214.979996</td>\n",
       "      <td>63070300</td>\n",
       "      <td>220.865001</td>\n",
       "      <td>221.153078</td>\n",
       "      <td>-0.288077</td>\n",
       "      <td>-0.160043</td>\n",
       "    </tr>\n",
       "    <tr>\n",
       "      <th>2022-11-03</th>\n",
       "      <td>211.360001</td>\n",
       "      <td>221.199997</td>\n",
       "      <td>210.139999</td>\n",
       "      <td>215.309998</td>\n",
       "      <td>215.309998</td>\n",
       "      <td>56538800</td>\n",
       "      <td>218.696882</td>\n",
       "      <td>219.053716</td>\n",
       "      <td>-0.356834</td>\n",
       "      <td>-0.240695</td>\n",
       "    </tr>\n",
       "    <tr>\n",
       "      <th>2022-11-04</th>\n",
       "      <td>222.600006</td>\n",
       "      <td>223.800003</td>\n",
       "      <td>203.080002</td>\n",
       "      <td>207.470001</td>\n",
       "      <td>207.470001</td>\n",
       "      <td>98622200</td>\n",
       "      <td>215.152994</td>\n",
       "      <td>215.815416</td>\n",
       "      <td>-0.662421</td>\n",
       "      <td>-0.383556</td>\n",
       "    </tr>\n",
       "    <tr>\n",
       "      <th>2022-11-07</th>\n",
       "      <td>208.649994</td>\n",
       "      <td>208.899994</td>\n",
       "      <td>196.660004</td>\n",
       "      <td>197.080002</td>\n",
       "      <td>197.080002</td>\n",
       "      <td>93916500</td>\n",
       "      <td>210.242627</td>\n",
       "      <td>211.470596</td>\n",
       "      <td>-1.227969</td>\n",
       "      <td>-0.634750</td>\n",
       "    </tr>\n",
       "    <tr>\n",
       "      <th>...</th>\n",
       "      <td>...</td>\n",
       "      <td>...</td>\n",
       "      <td>...</td>\n",
       "      <td>...</td>\n",
       "      <td>...</td>\n",
       "      <td>...</td>\n",
       "      <td>...</td>\n",
       "      <td>...</td>\n",
       "      <td>...</td>\n",
       "      <td>...</td>\n",
       "    </tr>\n",
       "    <tr>\n",
       "      <th>2024-05-06</th>\n",
       "      <td>183.800003</td>\n",
       "      <td>187.559998</td>\n",
       "      <td>182.199997</td>\n",
       "      <td>184.759995</td>\n",
       "      <td>184.759995</td>\n",
       "      <td>84390300</td>\n",
       "      <td>174.977715</td>\n",
       "      <td>172.125174</td>\n",
       "      <td>2.852541</td>\n",
       "      <td>-0.570672</td>\n",
       "    </tr>\n",
       "    <tr>\n",
       "      <th>2024-05-07</th>\n",
       "      <td>182.399994</td>\n",
       "      <td>183.259995</td>\n",
       "      <td>177.399994</td>\n",
       "      <td>177.809998</td>\n",
       "      <td>177.809998</td>\n",
       "      <td>75045900</td>\n",
       "      <td>175.413451</td>\n",
       "      <td>172.546272</td>\n",
       "      <td>2.867179</td>\n",
       "      <td>0.116898</td>\n",
       "    </tr>\n",
       "    <tr>\n",
       "      <th>2024-05-08</th>\n",
       "      <td>171.589996</td>\n",
       "      <td>176.059998</td>\n",
       "      <td>170.149994</td>\n",
       "      <td>174.720001</td>\n",
       "      <td>174.720001</td>\n",
       "      <td>79969500</td>\n",
       "      <td>175.306766</td>\n",
       "      <td>172.707289</td>\n",
       "      <td>2.599478</td>\n",
       "      <td>0.613414</td>\n",
       "    </tr>\n",
       "    <tr>\n",
       "      <th>2024-05-09</th>\n",
       "      <td>175.009995</td>\n",
       "      <td>175.619995</td>\n",
       "      <td>171.369995</td>\n",
       "      <td>171.970001</td>\n",
       "      <td>171.970001</td>\n",
       "      <td>65950300</td>\n",
       "      <td>174.793418</td>\n",
       "      <td>172.652675</td>\n",
       "      <td>2.140743</td>\n",
       "      <td>0.918880</td>\n",
       "    </tr>\n",
       "    <tr>\n",
       "      <th>2024-05-10</th>\n",
       "      <td>173.050003</td>\n",
       "      <td>173.059998</td>\n",
       "      <td>167.750000</td>\n",
       "      <td>168.470001</td>\n",
       "      <td>168.470001</td>\n",
       "      <td>72350200</td>\n",
       "      <td>173.820585</td>\n",
       "      <td>172.342847</td>\n",
       "      <td>1.477737</td>\n",
       "      <td>1.030651</td>\n",
       "    </tr>\n",
       "  </tbody>\n",
       "</table>\n",
       "<p>383 rows × 10 columns</p>\n",
       "</div>"
      ],
      "text/plain": [
       "                  Open        High         Low       Close   Adj Close  \\\n",
       "Date                                                                     \n",
       "2022-11-01  234.050003  237.399994  227.279999  227.820007  227.820007   \n",
       "2022-11-02  226.039993  227.869995  214.820007  214.979996  214.979996   \n",
       "2022-11-03  211.360001  221.199997  210.139999  215.309998  215.309998   \n",
       "2022-11-04  222.600006  223.800003  203.080002  207.470001  207.470001   \n",
       "2022-11-07  208.649994  208.899994  196.660004  197.080002  197.080002   \n",
       "...                ...         ...         ...         ...         ...   \n",
       "2024-05-06  183.800003  187.559998  182.199997  184.759995  184.759995   \n",
       "2024-05-07  182.399994  183.259995  177.399994  177.809998  177.809998   \n",
       "2024-05-08  171.589996  176.059998  170.149994  174.720001  174.720001   \n",
       "2024-05-09  175.009995  175.619995  171.369995  171.970001  171.970001   \n",
       "2024-05-10  173.050003  173.059998  167.750000  168.470001  168.470001   \n",
       "\n",
       "              Volume       EMA12       EMA26      MACD    signal  \n",
       "Date                                                              \n",
       "2022-11-01  62688800  227.820007  227.820007  0.000000  0.000000  \n",
       "2022-11-02  63070300  220.865001  221.153078 -0.288077 -0.160043  \n",
       "2022-11-03  56538800  218.696882  219.053716 -0.356834 -0.240695  \n",
       "2022-11-04  98622200  215.152994  215.815416 -0.662421 -0.383556  \n",
       "2022-11-07  93916500  210.242627  211.470596 -1.227969 -0.634750  \n",
       "...              ...         ...         ...       ...       ...  \n",
       "2024-05-06  84390300  174.977715  172.125174  2.852541 -0.570672  \n",
       "2024-05-07  75045900  175.413451  172.546272  2.867179  0.116898  \n",
       "2024-05-08  79969500  175.306766  172.707289  2.599478  0.613414  \n",
       "2024-05-09  65950300  174.793418  172.652675  2.140743  0.918880  \n",
       "2024-05-10  72350200  173.820585  172.342847  1.477737  1.030651  \n",
       "\n",
       "[383 rows x 10 columns]"
      ]
     },
     "execution_count": 46,
     "metadata": {},
     "output_type": "execute_result"
    }
   ],
   "source": [
    "df"
   ]
  },
  {
   "cell_type": "code",
   "execution_count": 47,
   "id": "06bf3cb0",
   "metadata": {},
   "outputs": [
    {
     "data": {
      "image/png": "[encoded data removed]",
      "text/plain": [
       "<Figure size 640x480 with 1 Axes>"
      ]
     },
     "metadata": {},
     "output_type": "display_data"
    }
   ],
   "source": [
    "plt.plot(df.signal,label='signal',color='red')\n",
    "plt.plot(df.MACD,label='MACD',color='green')\n",
    "plt.legend()\n",
    "plt.show()"
   ]
  },
  {
   "cell_type": "code",
   "execution_count": 48,
   "id": "818cb0fd",
   "metadata": {},
   "outputs": [],
   "source": [
    "Buy,Sell=[],[]\n",
    "\n",
    "for i in range(2,len(df)):\n",
    "    if df.MACD.iloc[i] > df.signal.iloc[i] and df.MACD.iloc[i-1] < df.signal.iloc[i-1]:\n",
    "        Buy.append(i)\n",
    "    elif df.MACD.iloc[i] < df.signal.iloc[i] and df.MACD.iloc[i-1] > df.signal.iloc[i-1]:\n",
    "        Sell.append(i)"
   ]
  },
  {
   "cell_type": "code",
   "execution_count": 49,
   "id": "a1626c47",
   "metadata": {},
   "outputs": [
    {
     "data": {
      "text/plain": [
       "[19, 47, 97, 127, 167, 204, 232, 254, 281, 318, 347, 371]"
      ]
     },
     "execution_count": 49,
     "metadata": {},
     "output_type": "execute_result"
    }
   ],
   "source": [
    "Buy"
   ]
  },
  {
   "cell_type": "code",
   "execution_count": 50,
   "id": "2366bb07",
   "metadata": {},
   "outputs": [
    {
     "data": {
      "image/png": "[encoded data removed]",
      "text/plain": [
       "<Figure size 640x480 with 1 Axes>"
      ]
     },
     "metadata": {},
     "output_type": "display_data"
    }
   ],
   "source": [
    "plt.scatter(df.iloc[Buy].index,df.iloc[Buy].Close,marker=\"^\",color='green')\n",
    "plt.scatter(df.iloc[Sell].index,df.iloc[Sell].Close,marker='v',color='red')\n",
    "plt.plot(df.Close,label='TSLA Close',color='k')\n",
    "plt.legend()\n",
    "plt.show()"
   ]
  },
  {
   "cell_type": "markdown",
   "id": "eab57b45",
   "metadata": {},
   "source": [
    "## Backtesting"
   ]
  },
  {
   "cell_type": "code",
   "execution_count": 51,
   "id": "c3b44491",
   "metadata": {},
   "outputs": [
    {
     "data": {
      "text/plain": [
       "[19, 47, 97, 127, 167, 204, 232, 254, 281, 318, 347, 371]"
      ]
     },
     "execution_count": 51,
     "metadata": {},
     "output_type": "execute_result"
    }
   ],
   "source": [
    "Buy"
   ]
  },
  {
   "cell_type": "code",
   "execution_count": 52,
   "id": "7c0caf8e",
   "metadata": {},
   "outputs": [],
   "source": [
    "Realbuys=[i+1 for i in Buy]\n",
    "Realsells= [i+1 for i in Sell]"
   ]
  },
  {
   "cell_type": "code",
   "execution_count": 53,
   "id": "e95155a3",
   "metadata": {},
   "outputs": [],
   "source": [
    "Buyprices=df.Open.iloc[Realbuys]\n",
    "Sellprices=df.Open.iloc[Realsells]"
   ]
  },
  {
   "cell_type": "code",
   "execution_count": 54,
   "id": "f2202c6f",
   "metadata": {},
   "outputs": [
    {
     "data": {
      "text/plain": [
       "Date\n",
       "2022-11-30    182.429993\n",
       "2023-01-11    122.089996\n",
       "2023-03-24    191.649994\n",
       "2023-05-08    173.720001\n",
       "2023-07-06    278.089996\n",
       "2023-08-28    242.580002\n",
       "2023-10-06    253.979996\n",
       "2023-11-07    219.979996\n",
       "2023-12-15    251.210007\n",
       "2024-02-09    190.179993\n",
       "2024-03-22    166.690002\n",
       "2024-04-26    168.850006\n",
       "Name: Open, dtype: float64"
      ]
     },
     "execution_count": 54,
     "metadata": {},
     "output_type": "execute_result"
    }
   ],
   "source": [
    "Buyprices\n"
   ]
  },
  {
   "cell_type": "code",
   "execution_count": 55,
   "id": "1d777f0e",
   "metadata": {},
   "outputs": [],
   "source": [
    "if Sellprices.index[0] < Buyprices.index[0]:\n",
    "    Sellprices=Sellprices.drop(Sellprices.index[0])\n",
    "elif Buyprices.index[-1] > Sellprices.index[-1]:\n",
    "    Buyprices= Buyprices.drop(Buyprices.index[-1])"
   ]
  },
  {
   "cell_type": "code",
   "execution_count": 56,
   "id": "a625f533",
   "metadata": {},
   "outputs": [],
   "source": [
    "profitsrel=[]\n",
    "\n",
    "for i in range(len(Sellprices)):\n",
    "    profitsrel.append((Sellprices[i]-Buyprices[i])/Buyprices[i])"
   ]
  },
  {
   "cell_type": "code",
   "execution_count": 57,
   "id": "28a9e920",
   "metadata": {},
   "outputs": [
    {
     "data": {
      "text/plain": [
       "[-0.056076282071227425,\n",
       " 0.6701614364683695,\n",
       " -0.04471689192987183,\n",
       " 0.40018422624887634,\n",
       " 0.0012226126159443566,\n",
       " 0.003297893666910664,\n",
       " -0.015276752851770877,\n",
       " 0.09655425904940614,\n",
       " -0.004498247890656666,\n",
       " -0.08323686603171017,\n",
       " -0.05429241657692704]"
      ]
     },
     "execution_count": 57,
     "metadata": {},
     "output_type": "execute_result"
    }
   ],
   "source": [
    "profitsrel"
   ]
  },
  {
   "cell_type": "code",
   "execution_count": 58,
   "id": "8ac97194",
   "metadata": {},
   "outputs": [
    {
     "data": {
      "text/plain": [
       "0.08302936097248573"
      ]
     },
     "execution_count": 58,
     "metadata": {},
     "output_type": "execute_result"
    }
   ],
   "source": [
    "sum(profitsrel)/len(profitsrel)"
   ]
  },
  {
   "cell_type": "code",
   "execution_count": 59,
   "id": "76b9a7ca",
   "metadata": {},
   "outputs": [
    {
     "data": {
      "text/plain": [
       "0    0.083029\n",
       "dtype: float64"
      ]
     },
     "execution_count": 59,
     "metadata": {},
     "output_type": "execute_result"
    }
   ],
   "source": [
    "import pandas as pd\n",
    "\n",
    "pd.DataFrame(profitsrel).mean()"
   ]
  },
  {
   "cell_type": "code",
   "execution_count": null,
   "id": "8ce01dfd",
   "metadata": {},
   "outputs": [],
   "source": []
  }
 ],
 "metadata": {
  "kernelspec": {
   "display_name": "Python 3 (ipykernel)",
   "language": "python",
   "name": "python3"
  },
  "language_info": {
   "codemirror_mode": {
    "name": "ipython",
    "version": 3
   },
   "file_extension": ".py",
   "mimetype": "text/x-python",
   "name": "python",
   "nbconvert_exporter": "python",
   "pygments_lexer": "ipython3",
   "version": "3.11.4"
  }
 },
 "nbformat": 4,
 "nbformat_minor": 5
}
