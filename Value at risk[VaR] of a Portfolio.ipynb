{
 "cells": [
  {
   "cell_type": "markdown",
   "id": "dbeaeb42",
   "metadata": {},
   "source": [
    "\\begin{equation}\n",
    "\\text{VaR}_{\\alpha}(X) = \\text{inf} \\{ x \\in \\mathbb{R} \\mid P(X \\leq x) \\geq 1 - \\alpha \\}\n",
    "\\end{equation}\n",
    "\n",
    "\n",
    "$$\n",
    "\\text{VaR}_{\\alpha}(X) = \\mu_X + \\sigma_X \\cdot \\Phi^{-1}(\\alpha)\n",
    "$$\n",
    "\n",
    "where:\n",
    "- $\\text{VaR}_{\\alpha}(X)$ represents the Value at Risk of the portfolio or position $X$ at the confidence level $\\alpha$.\n",
    "- $\\mu_X$ represents the mean or expected return of the portfolio or position $X$.\n",
    "- $\\sigma_X$ represents the standard deviation of the portfolio or position $X$.\n",
    "- $\\Phi^{-1}(\\alpha)$ represents the inverse cumulative distribution function (quantile function) of the standard normal distribution, evaluated at the confidence level $\\alpha$.\n"
   ]
  },
  {
   "cell_type": "code",
   "execution_count": 6,
   "id": "e380fe46",
   "metadata": {},
   "outputs": [],
   "source": [
    "import scipy.stats\n",
    "import numpy as np"
   ]
  },
  {
   "cell_type": "code",
   "execution_count": 3,
   "id": "704c0177",
   "metadata": {},
   "outputs": [
    {
     "data": {
      "text/plain": [
       "1.6448536269514722"
      ]
     },
     "execution_count": 3,
     "metadata": {},
     "output_type": "execute_result"
    }
   ],
   "source": [
    "scipy.stats.norm.ppf(0.95)"
   ]
  },
  {
   "cell_type": "code",
   "execution_count": 4,
   "id": "3f31b313",
   "metadata": {},
   "outputs": [],
   "source": [
    "def VaR(Position,sigma,Quantile):\n",
    "    return Position*sigma*scipy.stats.norm.ppf(Quantile)"
   ]
  },
  {
   "cell_type": "code",
   "execution_count": 5,
   "id": "8c5bdc5a",
   "metadata": {},
   "outputs": [
    {
     "data": {
      "text/plain": [
       "82.24268134757361"
      ]
     },
     "execution_count": 5,
     "metadata": {},
     "output_type": "execute_result"
    }
   ],
   "source": [
    "VaR(1000,0.05,0.95)"
   ]
  },
  {
   "cell_type": "markdown",
   "id": "077d020d",
   "metadata": {},
   "source": [
    "$$\n",
    "\\sigma^2_p = \\sum_{i=1}^{n} \\sum_{j=1}^{n} w_i w_j \\sigma_{ij}\n",
    "$$\n",
    "\n",
    "where:\n",
    "- \\(\\sigma^2_p\\) represents the portfolio variance.\n",
    "- \\(w_i\\) and \\(w_j\\) represent the weights of assets \\(i\\) and \\(j\\) in the portfolio, respectively.\n",
    "- \\(\\sigma_{ij}\\) represents the covariance between assets \\(i\\) and \\(j\\).\n",
    "- \\(n\\) represents the number of assets in the portfolio.\n",
    "\n"
   ]
  },
  {
   "cell_type": "code",
   "execution_count": 7,
   "id": "4836a381",
   "metadata": {},
   "outputs": [],
   "source": [
    "w1=0.5\n",
    "w2=0.5\n",
    "sigma1=0.07\n",
    "sigma2=0.03\n",
    "corr=0.4"
   ]
  },
  {
   "cell_type": "code",
   "execution_count": 8,
   "id": "5c88280c",
   "metadata": {},
   "outputs": [],
   "source": [
    "portfoliovar=w1**2*sigma1**2+w2**2*sigma2**2+2*(w1*w2*sigma1*sigma2*corr)"
   ]
  },
  {
   "cell_type": "code",
   "execution_count": 9,
   "id": "a905c471",
   "metadata": {},
   "outputs": [],
   "source": [
    "portfoliovol=portfoliovar**(1/2)"
   ]
  },
  {
   "cell_type": "code",
   "execution_count": 10,
   "id": "0bdf13af",
   "metadata": {},
   "outputs": [
    {
     "data": {
      "text/plain": [
       "0.043243496620879306"
      ]
     },
     "execution_count": 10,
     "metadata": {},
     "output_type": "execute_result"
    }
   ],
   "source": [
    "portfoliovol"
   ]
  },
  {
   "cell_type": "code",
   "execution_count": 11,
   "id": "c5bc38f1",
   "metadata": {},
   "outputs": [
    {
     "data": {
      "text/plain": [
       "71.12922225891705"
      ]
     },
     "execution_count": 11,
     "metadata": {},
     "output_type": "execute_result"
    }
   ],
   "source": [
    "VaR(1000,portfoliovol,0.95)"
   ]
  },
  {
   "cell_type": "code",
   "execution_count": 14,
   "id": "2433005d",
   "metadata": {},
   "outputs": [],
   "source": [
    "VaR1=VaR(1000*w1,sigma1,0.95)\n",
    "VaR2=VaR(1000*w2,sigma2,0.95)"
   ]
  },
  {
   "cell_type": "code",
   "execution_count": 16,
   "id": "c05a0b4f",
   "metadata": {},
   "outputs": [
    {
     "data": {
      "text/plain": [
       "array([57.56987694, 24.6728044 ])"
      ]
     },
     "execution_count": 16,
     "metadata": {},
     "output_type": "execute_result"
    }
   ],
   "source": [
    "vector=np.array([VaR1,VaR2])\n",
    "vector"
   ]
  },
  {
   "cell_type": "code",
   "execution_count": 17,
   "id": "50be0407",
   "metadata": {},
   "outputs": [
    {
     "data": {
      "text/plain": [
       "array([[1. , 0.4],\n",
       "       [0.4, 1. ]])"
      ]
     },
     "execution_count": 17,
     "metadata": {},
     "output_type": "execute_result"
    }
   ],
   "source": [
    "corrmatrix=np.array([[1,corr],[corr,1]])\n",
    "corrmatrix"
   ]
  },
  {
   "cell_type": "code",
   "execution_count": 21,
   "id": "36804326",
   "metadata": {},
   "outputs": [
    {
     "data": {
      "text/plain": [
       "71.12922225891707"
      ]
     },
     "execution_count": 21,
     "metadata": {},
     "output_type": "execute_result"
    }
   ],
   "source": [
    "(np.dot(np.dot(vector,corrmatrix),vector))**(1/2)"
   ]
  },
  {
   "cell_type": "code",
   "execution_count": 22,
   "id": "a52b484d",
   "metadata": {},
   "outputs": [],
   "source": [
    "import yfinance as yf\n",
    "import datetime as dt"
   ]
  },
  {
   "cell_type": "code",
   "execution_count": 23,
   "id": "69907b16",
   "metadata": {},
   "outputs": [],
   "source": [
    "end=dt.datetime.now()\n",
    "start=dt.datetime(end.year-1,end.month,end.day)"
   ]
  },
  {
   "cell_type": "code",
   "execution_count": 26,
   "id": "10f2533b",
   "metadata": {},
   "outputs": [
    {
     "name": "stdout",
     "output_type": "stream",
     "text": [
      "[*********************100%%**********************]  3 of 3 completed\n"
     ]
    },
    {
     "data": {
      "text/html": [
       "<div>\n",
       "<style scoped>\n",
       "    .dataframe tbody tr th:only-of-type {\n",
       "        vertical-align: middle;\n",
       "    }\n",
       "\n",
       "    .dataframe tbody tr th {\n",
       "        vertical-align: top;\n",
       "    }\n",
       "\n",
       "    .dataframe thead th {\n",
       "        text-align: right;\n",
       "    }\n",
       "</style>\n",
       "<table border=\"1\" class=\"dataframe\">\n",
       "  <thead>\n",
       "    <tr style=\"text-align: right;\">\n",
       "      <th></th>\n",
       "      <th>AAPL</th>\n",
       "      <th>MSFT</th>\n",
       "      <th>TSLA</th>\n",
       "    </tr>\n",
       "    <tr>\n",
       "      <th>Date</th>\n",
       "      <th></th>\n",
       "      <th></th>\n",
       "      <th></th>\n",
       "    </tr>\n",
       "  </thead>\n",
       "  <tbody>\n",
       "    <tr>\n",
       "      <th>2023-04-17</th>\n",
       "      <td>164.352737</td>\n",
       "      <td>286.449036</td>\n",
       "      <td>187.039993</td>\n",
       "    </tr>\n",
       "    <tr>\n",
       "      <th>2023-04-18</th>\n",
       "      <td>165.586151</td>\n",
       "      <td>286.022522</td>\n",
       "      <td>184.309998</td>\n",
       "    </tr>\n",
       "    <tr>\n",
       "      <th>2023-04-19</th>\n",
       "      <td>166.740005</td>\n",
       "      <td>286.101898</td>\n",
       "      <td>180.589996</td>\n",
       "    </tr>\n",
       "    <tr>\n",
       "      <th>2023-04-20</th>\n",
       "      <td>165.765182</td>\n",
       "      <td>283.780914</td>\n",
       "      <td>162.990005</td>\n",
       "    </tr>\n",
       "    <tr>\n",
       "      <th>2023-04-21</th>\n",
       "      <td>164.143860</td>\n",
       "      <td>283.433807</td>\n",
       "      <td>165.080002</td>\n",
       "    </tr>\n",
       "    <tr>\n",
       "      <th>...</th>\n",
       "      <td>...</td>\n",
       "      <td>...</td>\n",
       "      <td>...</td>\n",
       "    </tr>\n",
       "    <tr>\n",
       "      <th>2024-04-09</th>\n",
       "      <td>169.669998</td>\n",
       "      <td>426.279999</td>\n",
       "      <td>176.880005</td>\n",
       "    </tr>\n",
       "    <tr>\n",
       "      <th>2024-04-10</th>\n",
       "      <td>167.779999</td>\n",
       "      <td>423.260010</td>\n",
       "      <td>171.759995</td>\n",
       "    </tr>\n",
       "    <tr>\n",
       "      <th>2024-04-11</th>\n",
       "      <td>175.039993</td>\n",
       "      <td>427.929993</td>\n",
       "      <td>174.600006</td>\n",
       "    </tr>\n",
       "    <tr>\n",
       "      <th>2024-04-12</th>\n",
       "      <td>176.550003</td>\n",
       "      <td>421.899994</td>\n",
       "      <td>171.050003</td>\n",
       "    </tr>\n",
       "    <tr>\n",
       "      <th>2024-04-15</th>\n",
       "      <td>173.830002</td>\n",
       "      <td>414.720001</td>\n",
       "      <td>162.860306</td>\n",
       "    </tr>\n",
       "  </tbody>\n",
       "</table>\n",
       "<p>251 rows × 3 columns</p>\n",
       "</div>"
      ],
      "text/plain": [
       "                  AAPL        MSFT        TSLA\n",
       "Date                                          \n",
       "2023-04-17  164.352737  286.449036  187.039993\n",
       "2023-04-18  165.586151  286.022522  184.309998\n",
       "2023-04-19  166.740005  286.101898  180.589996\n",
       "2023-04-20  165.765182  283.780914  162.990005\n",
       "2023-04-21  164.143860  283.433807  165.080002\n",
       "...                ...         ...         ...\n",
       "2024-04-09  169.669998  426.279999  176.880005\n",
       "2024-04-10  167.779999  423.260010  171.759995\n",
       "2024-04-11  175.039993  427.929993  174.600006\n",
       "2024-04-12  176.550003  421.899994  171.050003\n",
       "2024-04-15  173.830002  414.720001  162.860306\n",
       "\n",
       "[251 rows x 3 columns]"
      ]
     },
     "execution_count": 26,
     "metadata": {},
     "output_type": "execute_result"
    }
   ],
   "source": [
    "df=yf.download(['AAPL','MSFT','TSLA'],start,end)['Adj Close']\n",
    "df"
   ]
  },
  {
   "cell_type": "code",
   "execution_count": 29,
   "id": "3b1c8a8b",
   "metadata": {},
   "outputs": [
    {
     "data": {
      "text/html": [
       "<div>\n",
       "<style scoped>\n",
       "    .dataframe tbody tr th:only-of-type {\n",
       "        vertical-align: middle;\n",
       "    }\n",
       "\n",
       "    .dataframe tbody tr th {\n",
       "        vertical-align: top;\n",
       "    }\n",
       "\n",
       "    .dataframe thead th {\n",
       "        text-align: right;\n",
       "    }\n",
       "</style>\n",
       "<table border=\"1\" class=\"dataframe\">\n",
       "  <thead>\n",
       "    <tr style=\"text-align: right;\">\n",
       "      <th></th>\n",
       "      <th>AAPL</th>\n",
       "      <th>MSFT</th>\n",
       "      <th>TSLA</th>\n",
       "    </tr>\n",
       "    <tr>\n",
       "      <th>Date</th>\n",
       "      <th></th>\n",
       "      <th></th>\n",
       "      <th></th>\n",
       "    </tr>\n",
       "  </thead>\n",
       "  <tbody>\n",
       "    <tr>\n",
       "      <th>2023-04-17</th>\n",
       "      <td>NaN</td>\n",
       "      <td>NaN</td>\n",
       "      <td>NaN</td>\n",
       "    </tr>\n",
       "    <tr>\n",
       "      <th>2023-04-18</th>\n",
       "      <td>0.007477</td>\n",
       "      <td>-0.001490</td>\n",
       "      <td>-0.014703</td>\n",
       "    </tr>\n",
       "    <tr>\n",
       "      <th>2023-04-19</th>\n",
       "      <td>0.006944</td>\n",
       "      <td>0.000277</td>\n",
       "      <td>-0.020390</td>\n",
       "    </tr>\n",
       "    <tr>\n",
       "      <th>2023-04-20</th>\n",
       "      <td>-0.005864</td>\n",
       "      <td>-0.008146</td>\n",
       "      <td>-0.102540</td>\n",
       "    </tr>\n",
       "    <tr>\n",
       "      <th>2023-04-21</th>\n",
       "      <td>-0.009829</td>\n",
       "      <td>-0.001224</td>\n",
       "      <td>0.012741</td>\n",
       "    </tr>\n",
       "    <tr>\n",
       "      <th>...</th>\n",
       "      <td>...</td>\n",
       "      <td>...</td>\n",
       "      <td>...</td>\n",
       "    </tr>\n",
       "    <tr>\n",
       "      <th>2024-04-09</th>\n",
       "      <td>0.007216</td>\n",
       "      <td>0.003972</td>\n",
       "      <td>0.022296</td>\n",
       "    </tr>\n",
       "    <tr>\n",
       "      <th>2024-04-10</th>\n",
       "      <td>-0.011202</td>\n",
       "      <td>-0.007110</td>\n",
       "      <td>-0.029373</td>\n",
       "    </tr>\n",
       "    <tr>\n",
       "      <th>2024-04-11</th>\n",
       "      <td>0.042361</td>\n",
       "      <td>0.010973</td>\n",
       "      <td>0.016400</td>\n",
       "    </tr>\n",
       "    <tr>\n",
       "      <th>2024-04-12</th>\n",
       "      <td>0.008590</td>\n",
       "      <td>-0.014191</td>\n",
       "      <td>-0.020542</td>\n",
       "    </tr>\n",
       "    <tr>\n",
       "      <th>2024-04-15</th>\n",
       "      <td>-0.015526</td>\n",
       "      <td>-0.017165</td>\n",
       "      <td>-0.049063</td>\n",
       "    </tr>\n",
       "  </tbody>\n",
       "</table>\n",
       "<p>251 rows × 3 columns</p>\n",
       "</div>"
      ],
      "text/plain": [
       "                AAPL      MSFT      TSLA\n",
       "Date                                    \n",
       "2023-04-17       NaN       NaN       NaN\n",
       "2023-04-18  0.007477 -0.001490 -0.014703\n",
       "2023-04-19  0.006944  0.000277 -0.020390\n",
       "2023-04-20 -0.005864 -0.008146 -0.102540\n",
       "2023-04-21 -0.009829 -0.001224  0.012741\n",
       "...              ...       ...       ...\n",
       "2024-04-09  0.007216  0.003972  0.022296\n",
       "2024-04-10 -0.011202 -0.007110 -0.029373\n",
       "2024-04-11  0.042361  0.010973  0.016400\n",
       "2024-04-12  0.008590 -0.014191 -0.020542\n",
       "2024-04-15 -0.015526 -0.017165 -0.049063\n",
       "\n",
       "[251 rows x 3 columns]"
      ]
     },
     "execution_count": 29,
     "metadata": {},
     "output_type": "execute_result"
    }
   ],
   "source": [
    "returns=np.log(1+df.pct_change())\n",
    "returns"
   ]
  },
  {
   "cell_type": "code",
   "execution_count": 30,
   "id": "99dec0c8",
   "metadata": {},
   "outputs": [
    {
     "data": {
      "text/plain": [
       "AAPL    0.012314\n",
       "MSFT    0.013772\n",
       "TSLA    0.030425\n",
       "dtype: float64"
      ]
     },
     "execution_count": 30,
     "metadata": {},
     "output_type": "execute_result"
    }
   ],
   "source": [
    "returns.std()"
   ]
  },
  {
   "cell_type": "code",
   "execution_count": 33,
   "id": "1f7d6145",
   "metadata": {},
   "outputs": [
    {
     "data": {
      "text/plain": [
       "AAPL    173.830002\n",
       "MSFT    414.720001\n",
       "TSLA    162.860306\n",
       "Name: 2024-04-15 00:00:00, dtype: float64"
      ]
     },
     "execution_count": 33,
     "metadata": {},
     "output_type": "execute_result"
    }
   ],
   "source": [
    "Position=df.iloc[-1]\n",
    "Position"
   ]
  },
  {
   "cell_type": "code",
   "execution_count": 35,
   "id": "3b6a8d3d",
   "metadata": {},
   "outputs": [],
   "source": [
    "VaRarray=[]\n",
    "for i in range(len(Position)):\n",
    "    VaRarray.append(VaR(Position[i],returns.std()[i],0.95))"
   ]
  },
  {
   "cell_type": "code",
   "execution_count": 36,
   "id": "6208a0da",
   "metadata": {},
   "outputs": [
    {
     "data": {
      "text/plain": [
       "[3.5208764073460173, 9.394462650976914, 8.15025163932988]"
      ]
     },
     "execution_count": 36,
     "metadata": {},
     "output_type": "execute_result"
    }
   ],
   "source": [
    "VaRarray"
   ]
  },
  {
   "cell_type": "code",
   "execution_count": 37,
   "id": "8715f8ab",
   "metadata": {},
   "outputs": [
    {
     "data": {
      "text/plain": [
       "array([3.52087641, 9.39446265, 8.15025164])"
      ]
     },
     "execution_count": 37,
     "metadata": {},
     "output_type": "execute_result"
    }
   ],
   "source": [
    "vector=np.array(VaRarray)\n",
    "vector"
   ]
  },
  {
   "cell_type": "code",
   "execution_count": 38,
   "id": "9c0c6a03",
   "metadata": {},
   "outputs": [
    {
     "data": {
      "text/html": [
       "<div>\n",
       "<style scoped>\n",
       "    .dataframe tbody tr th:only-of-type {\n",
       "        vertical-align: middle;\n",
       "    }\n",
       "\n",
       "    .dataframe tbody tr th {\n",
       "        vertical-align: top;\n",
       "    }\n",
       "\n",
       "    .dataframe thead th {\n",
       "        text-align: right;\n",
       "    }\n",
       "</style>\n",
       "<table border=\"1\" class=\"dataframe\">\n",
       "  <thead>\n",
       "    <tr style=\"text-align: right;\">\n",
       "      <th></th>\n",
       "      <th>AAPL</th>\n",
       "      <th>MSFT</th>\n",
       "      <th>TSLA</th>\n",
       "    </tr>\n",
       "  </thead>\n",
       "  <tbody>\n",
       "    <tr>\n",
       "      <th>AAPL</th>\n",
       "      <td>1.000000</td>\n",
       "      <td>0.478074</td>\n",
       "      <td>0.356267</td>\n",
       "    </tr>\n",
       "    <tr>\n",
       "      <th>MSFT</th>\n",
       "      <td>0.478074</td>\n",
       "      <td>1.000000</td>\n",
       "      <td>0.264795</td>\n",
       "    </tr>\n",
       "    <tr>\n",
       "      <th>TSLA</th>\n",
       "      <td>0.356267</td>\n",
       "      <td>0.264795</td>\n",
       "      <td>1.000000</td>\n",
       "    </tr>\n",
       "  </tbody>\n",
       "</table>\n",
       "</div>"
      ],
      "text/plain": [
       "          AAPL      MSFT      TSLA\n",
       "AAPL  1.000000  0.478074  0.356267\n",
       "MSFT  0.478074  1.000000  0.264795\n",
       "TSLA  0.356267  0.264795  1.000000"
      ]
     },
     "execution_count": 38,
     "metadata": {},
     "output_type": "execute_result"
    }
   ],
   "source": [
    "returns.corr()"
   ]
  },
  {
   "cell_type": "code",
   "execution_count": 41,
   "id": "f397d7e4",
   "metadata": {},
   "outputs": [
    {
     "data": {
      "text/plain": [
       "16.115255658492973"
      ]
     },
     "execution_count": 41,
     "metadata": {},
     "output_type": "execute_result"
    }
   ],
   "source": [
    "(np.dot(np.dot(vector,returns.corr()),vector))**(1/2)"
   ]
  },
  {
   "cell_type": "code",
   "execution_count": null,
   "id": "617090b9",
   "metadata": {},
   "outputs": [],
   "source": []
  }
 ],
 "metadata": {
  "kernelspec": {
   "display_name": "Python 3 (ipykernel)",
   "language": "python",
   "name": "python3"
  },
  "language_info": {
   "codemirror_mode": {
    "name": "ipython",
    "version": 3
   },
   "file_extension": ".py",
   "mimetype": "text/x-python",
   "name": "python",
   "nbconvert_exporter": "python",
   "pygments_lexer": "ipython3",
   "version": "3.11.4"
  }
 },
 "nbformat": 4,
 "nbformat_minor": 5
}
