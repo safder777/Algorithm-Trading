{
 "cells": [
  {
   "cell_type": "markdown",
   "id": "9a4f8848",
   "metadata": {},
   "source": [
    "## Getting stock Beta with python"
   ]
  },
  {
   "cell_type": "markdown",
   "id": "4e5abdc7",
   "metadata": {},
   "source": [
    "The Capital Asset Pricing Model (CAPM) equation:\n",
    "\n",
    "\\[\n",
    "r_i = r_f + \\beta_i (r_m - r_f)\n",
    "\\]\n",
    "\n",
    "Where:\n",
    "- \\( r_i \\) is the expected return on the asset.\n",
    "- \\( r_f \\) is the risk-free rate.\n",
    "- \\( \\beta_i \\) is the asset's beta, representing its sensitivity to market movements.\n",
    "- \\( r_m \\) is the expected return of the market portfolio.\n"
   ]
  },
  {
   "cell_type": "code",
   "execution_count": 71,
   "id": "3770b46b",
   "metadata": {},
   "outputs": [],
   "source": [
    "import datetime as dt\n",
    "import matplotlib.pyplot as plt\n",
    "import statsmodels.api as sm\n",
    "import yfinance as yf\n",
    "import pandas_datareader.data as reader"
   ]
  },
  {
   "cell_type": "code",
   "execution_count": 72,
   "id": "d20ba7b5",
   "metadata": {},
   "outputs": [],
   "source": [
    "end=dt.datetime.now()\n",
    "start=dt.date(end.year-5,end.month,end.day)\n",
    "Input=['MSFT','^GSPC']"
   ]
  },
  {
   "cell_type": "code",
   "execution_count": 73,
   "id": "6b2752af",
   "metadata": {},
   "outputs": [
    {
     "name": "stdout",
     "output_type": "stream",
     "text": [
      "[*********************100%%**********************]  2 of 2 completed\n"
     ]
    },
    {
     "data": {
      "text/html": [
       "<div>\n",
       "<style scoped>\n",
       "    .dataframe tbody tr th:only-of-type {\n",
       "        vertical-align: middle;\n",
       "    }\n",
       "\n",
       "    .dataframe tbody tr th {\n",
       "        vertical-align: top;\n",
       "    }\n",
       "\n",
       "    .dataframe thead th {\n",
       "        text-align: right;\n",
       "    }\n",
       "</style>\n",
       "<table border=\"1\" class=\"dataframe\">\n",
       "  <thead>\n",
       "    <tr style=\"text-align: right;\">\n",
       "      <th></th>\n",
       "      <th>MSFT</th>\n",
       "      <th>^GSPC</th>\n",
       "    </tr>\n",
       "    <tr>\n",
       "      <th>Date</th>\n",
       "      <th></th>\n",
       "      <th></th>\n",
       "    </tr>\n",
       "  </thead>\n",
       "  <tbody>\n",
       "    <tr>\n",
       "      <th>2019-04-08</th>\n",
       "      <td>114.160454</td>\n",
       "      <td>2895.770020</td>\n",
       "    </tr>\n",
       "    <tr>\n",
       "      <th>2019-04-09</th>\n",
       "      <td>113.541702</td>\n",
       "      <td>2878.199951</td>\n",
       "    </tr>\n",
       "    <tr>\n",
       "      <th>2019-04-10</th>\n",
       "      <td>114.407936</td>\n",
       "      <td>2888.209961</td>\n",
       "    </tr>\n",
       "    <tr>\n",
       "      <th>2019-04-11</th>\n",
       "      <td>114.541214</td>\n",
       "      <td>2888.320068</td>\n",
       "    </tr>\n",
       "    <tr>\n",
       "      <th>2019-04-12</th>\n",
       "      <td>115.131363</td>\n",
       "      <td>2907.409912</td>\n",
       "    </tr>\n",
       "    <tr>\n",
       "      <th>...</th>\n",
       "      <td>...</td>\n",
       "      <td>...</td>\n",
       "    </tr>\n",
       "    <tr>\n",
       "      <th>2024-04-01</th>\n",
       "      <td>424.570007</td>\n",
       "      <td>5243.770020</td>\n",
       "    </tr>\n",
       "    <tr>\n",
       "      <th>2024-04-02</th>\n",
       "      <td>421.440002</td>\n",
       "      <td>5205.810059</td>\n",
       "    </tr>\n",
       "    <tr>\n",
       "      <th>2024-04-03</th>\n",
       "      <td>420.450012</td>\n",
       "      <td>5211.490234</td>\n",
       "    </tr>\n",
       "    <tr>\n",
       "      <th>2024-04-04</th>\n",
       "      <td>417.880005</td>\n",
       "      <td>5147.209961</td>\n",
       "    </tr>\n",
       "    <tr>\n",
       "      <th>2024-04-05</th>\n",
       "      <td>425.519989</td>\n",
       "      <td>5204.339844</td>\n",
       "    </tr>\n",
       "  </tbody>\n",
       "</table>\n",
       "<p>1258 rows × 2 columns</p>\n",
       "</div>"
      ],
      "text/plain": [
       "                  MSFT        ^GSPC\n",
       "Date                               \n",
       "2019-04-08  114.160454  2895.770020\n",
       "2019-04-09  113.541702  2878.199951\n",
       "2019-04-10  114.407936  2888.209961\n",
       "2019-04-11  114.541214  2888.320068\n",
       "2019-04-12  115.131363  2907.409912\n",
       "...                ...          ...\n",
       "2024-04-01  424.570007  5243.770020\n",
       "2024-04-02  421.440002  5205.810059\n",
       "2024-04-03  420.450012  5211.490234\n",
       "2024-04-04  417.880005  5147.209961\n",
       "2024-04-05  425.519989  5204.339844\n",
       "\n",
       "[1258 rows x 2 columns]"
      ]
     },
     "execution_count": 73,
     "metadata": {},
     "output_type": "execute_result"
    }
   ],
   "source": [
    "df=yf.download(Input,start,end)['Adj Close']\n",
    "df"
   ]
  },
  {
   "cell_type": "markdown",
   "id": "de0f0f45",
   "metadata": {},
   "source": [
    "## As we are interested in monthly returns "
   ]
  },
  {
   "cell_type": "code",
   "execution_count": 74,
   "id": "e35e05a2",
   "metadata": {},
   "outputs": [
    {
     "data": {
      "text/html": [
       "<div>\n",
       "<style scoped>\n",
       "    .dataframe tbody tr th:only-of-type {\n",
       "        vertical-align: middle;\n",
       "    }\n",
       "\n",
       "    .dataframe tbody tr th {\n",
       "        vertical-align: top;\n",
       "    }\n",
       "\n",
       "    .dataframe thead th {\n",
       "        text-align: right;\n",
       "    }\n",
       "</style>\n",
       "<table border=\"1\" class=\"dataframe\">\n",
       "  <thead>\n",
       "    <tr style=\"text-align: right;\">\n",
       "      <th></th>\n",
       "      <th>MSFT</th>\n",
       "      <th>^GSPC</th>\n",
       "    </tr>\n",
       "    <tr>\n",
       "      <th>Date</th>\n",
       "      <th></th>\n",
       "      <th></th>\n",
       "    </tr>\n",
       "  </thead>\n",
       "  <tbody>\n",
       "    <tr>\n",
       "      <th>2019-05-31</th>\n",
       "      <td>-0.049481</td>\n",
       "      <td>-0.065778</td>\n",
       "    </tr>\n",
       "    <tr>\n",
       "      <th>2019-06-30</th>\n",
       "      <td>0.083118</td>\n",
       "      <td>0.068930</td>\n",
       "    </tr>\n",
       "    <tr>\n",
       "      <th>2019-07-31</th>\n",
       "      <td>0.017244</td>\n",
       "      <td>0.013128</td>\n",
       "    </tr>\n",
       "    <tr>\n",
       "      <th>2019-08-31</th>\n",
       "      <td>0.015037</td>\n",
       "      <td>-0.018092</td>\n",
       "    </tr>\n",
       "    <tr>\n",
       "      <th>2019-09-30</th>\n",
       "      <td>0.008487</td>\n",
       "      <td>0.017181</td>\n",
       "    </tr>\n",
       "  </tbody>\n",
       "</table>\n",
       "</div>"
      ],
      "text/plain": [
       "                MSFT     ^GSPC\n",
       "Date                          \n",
       "2019-05-31 -0.049481 -0.065778\n",
       "2019-06-30  0.083118  0.068930\n",
       "2019-07-31  0.017244  0.013128\n",
       "2019-08-31  0.015037 -0.018092\n",
       "2019-09-30  0.008487  0.017181"
      ]
     },
     "execution_count": 74,
     "metadata": {},
     "output_type": "execute_result"
    }
   ],
   "source": [
    "mtl_ret=df.resample('M').ffill().pct_change()\n",
    "mtl_ret=mtl_ret.dropna(axis=0)\n",
    "mtl_ret.head()"
   ]
  },
  {
   "cell_type": "markdown",
   "id": "b763fb59",
   "metadata": {},
   "source": [
    "## Building regresion model"
   ]
  },
  {
   "cell_type": "markdown",
   "id": "62a88a3e",
   "metadata": {},
   "source": [
    "### Define dependent and independent variable"
   ]
  },
  {
   "cell_type": "code",
   "execution_count": 75,
   "id": "eb4c8ea0",
   "metadata": {},
   "outputs": [],
   "source": [
    "X=mtl_ret['^GSPC']\n",
    "y=mtl_ret['MSFT']\n",
    "\n",
    "X_sm=sm.add_constant(X)"
   ]
  },
  {
   "cell_type": "code",
   "execution_count": 76,
   "id": "5ccb23bb",
   "metadata": {},
   "outputs": [],
   "source": [
    "model= sm.OLS(y,X_sm)"
   ]
  },
  {
   "cell_type": "code",
   "execution_count": 77,
   "id": "ff0b734e",
   "metadata": {},
   "outputs": [
    {
     "data": {
      "text/html": [
       "<table class=\"simpletable\">\n",
       "<caption>OLS Regression Results</caption>\n",
       "<tr>\n",
       "  <th>Dep. Variable:</th>          <td>MSFT</td>       <th>  R-squared:         </th> <td>   0.555</td>\n",
       "</tr>\n",
       "<tr>\n",
       "  <th>Model:</th>                   <td>OLS</td>       <th>  Adj. R-squared:    </th> <td>   0.547</td>\n",
       "</tr>\n",
       "<tr>\n",
       "  <th>Method:</th>             <td>Least Squares</td>  <th>  F-statistic:       </th> <td>   72.20</td>\n",
       "</tr>\n",
       "<tr>\n",
       "  <th>Date:</th>             <td>Sun, 07 Apr 2024</td> <th>  Prob (F-statistic):</th> <td>9.05e-12</td>\n",
       "</tr>\n",
       "<tr>\n",
       "  <th>Time:</th>                 <td>01:08:30</td>     <th>  Log-Likelihood:    </th> <td>  106.20</td>\n",
       "</tr>\n",
       "<tr>\n",
       "  <th>No. Observations:</th>      <td>    60</td>      <th>  AIC:               </th> <td>  -208.4</td>\n",
       "</tr>\n",
       "<tr>\n",
       "  <th>Df Residuals:</th>          <td>    58</td>      <th>  BIC:               </th> <td>  -204.2</td>\n",
       "</tr>\n",
       "<tr>\n",
       "  <th>Df Model:</th>              <td>     1</td>      <th>                     </th>     <td> </td>   \n",
       "</tr>\n",
       "<tr>\n",
       "  <th>Covariance Type:</th>      <td>nonrobust</td>    <th>                     </th>     <td> </td>   \n",
       "</tr>\n",
       "</table>\n",
       "<table class=\"simpletable\">\n",
       "<tr>\n",
       "    <td></td>       <th>coef</th>     <th>std err</th>      <th>t</th>      <th>P>|t|</th>  <th>[0.025</th>    <th>0.975]</th>  \n",
       "</tr>\n",
       "<tr>\n",
       "  <th>const</th> <td>    0.0130</td> <td>    0.006</td> <td>    2.356</td> <td> 0.022</td> <td>    0.002</td> <td>    0.024</td>\n",
       "</tr>\n",
       "<tr>\n",
       "  <th>^GSPC</th> <td>    0.8760</td> <td>    0.103</td> <td>    8.497</td> <td> 0.000</td> <td>    0.670</td> <td>    1.082</td>\n",
       "</tr>\n",
       "</table>\n",
       "<table class=\"simpletable\">\n",
       "<tr>\n",
       "  <th>Omnibus:</th>       <td> 4.974</td> <th>  Durbin-Watson:     </th> <td>   1.956</td>\n",
       "</tr>\n",
       "<tr>\n",
       "  <th>Prob(Omnibus):</th> <td> 0.083</td> <th>  Jarque-Bera (JB):  </th> <td>   4.412</td>\n",
       "</tr>\n",
       "<tr>\n",
       "  <th>Skew:</th>          <td> 0.662</td> <th>  Prob(JB):          </th> <td>   0.110</td>\n",
       "</tr>\n",
       "<tr>\n",
       "  <th>Kurtosis:</th>      <td> 3.118</td> <th>  Cond. No.          </th> <td>    19.1</td>\n",
       "</tr>\n",
       "</table><br/><br/>Notes:<br/>[1] Standard Errors assume that the covariance matrix of the errors is correctly specified."
      ],
      "text/latex": [
       "\\begin{center}\n",
       "\\begin{tabular}{lclc}\n",
       "\\toprule\n",
       "\\textbf{Dep. Variable:}    &       MSFT       & \\textbf{  R-squared:         } &     0.555   \\\\\n",
       "\\textbf{Model:}            &       OLS        & \\textbf{  Adj. R-squared:    } &     0.547   \\\\\n",
       "\\textbf{Method:}           &  Least Squares   & \\textbf{  F-statistic:       } &     72.20   \\\\\n",
       "\\textbf{Date:}             & Sun, 07 Apr 2024 & \\textbf{  Prob (F-statistic):} &  9.05e-12   \\\\\n",
       "\\textbf{Time:}             &     01:08:30     & \\textbf{  Log-Likelihood:    } &    106.20   \\\\\n",
       "\\textbf{No. Observations:} &          60      & \\textbf{  AIC:               } &    -208.4   \\\\\n",
       "\\textbf{Df Residuals:}     &          58      & \\textbf{  BIC:               } &    -204.2   \\\\\n",
       "\\textbf{Df Model:}         &           1      & \\textbf{                     } &             \\\\\n",
       "\\textbf{Covariance Type:}  &    nonrobust     & \\textbf{                     } &             \\\\\n",
       "\\bottomrule\n",
       "\\end{tabular}\n",
       "\\begin{tabular}{lcccccc}\n",
       "               & \\textbf{coef} & \\textbf{std err} & \\textbf{t} & \\textbf{P$> |$t$|$} & \\textbf{[0.025} & \\textbf{0.975]}  \\\\\n",
       "\\midrule\n",
       "\\textbf{const} &       0.0130  &        0.006     &     2.356  &         0.022        &        0.002    &        0.024     \\\\\n",
       "\\textbf{^GSPC} &       0.8760  &        0.103     &     8.497  &         0.000        &        0.670    &        1.082     \\\\\n",
       "\\bottomrule\n",
       "\\end{tabular}\n",
       "\\begin{tabular}{lclc}\n",
       "\\textbf{Omnibus:}       &  4.974 & \\textbf{  Durbin-Watson:     } &    1.956  \\\\\n",
       "\\textbf{Prob(Omnibus):} &  0.083 & \\textbf{  Jarque-Bera (JB):  } &    4.412  \\\\\n",
       "\\textbf{Skew:}          &  0.662 & \\textbf{  Prob(JB):          } &    0.110  \\\\\n",
       "\\textbf{Kurtosis:}      &  3.118 & \\textbf{  Cond. No.          } &     19.1  \\\\\n",
       "\\bottomrule\n",
       "\\end{tabular}\n",
       "%\\caption{OLS Regression Results}\n",
       "\\end{center}\n",
       "\n",
       "Notes: \\newline\n",
       " [1] Standard Errors assume that the covariance matrix of the errors is correctly specified."
      ],
      "text/plain": [
       "<class 'statsmodels.iolib.summary.Summary'>\n",
       "\"\"\"\n",
       "                            OLS Regression Results                            \n",
       "==============================================================================\n",
       "Dep. Variable:                   MSFT   R-squared:                       0.555\n",
       "Model:                            OLS   Adj. R-squared:                  0.547\n",
       "Method:                 Least Squares   F-statistic:                     72.20\n",
       "Date:                Sun, 07 Apr 2024   Prob (F-statistic):           9.05e-12\n",
       "Time:                        01:08:30   Log-Likelihood:                 106.20\n",
       "No. Observations:                  60   AIC:                            -208.4\n",
       "Df Residuals:                      58   BIC:                            -204.2\n",
       "Df Model:                           1                                         \n",
       "Covariance Type:            nonrobust                                         \n",
       "==============================================================================\n",
       "                 coef    std err          t      P>|t|      [0.025      0.975]\n",
       "------------------------------------------------------------------------------\n",
       "const          0.0130      0.006      2.356      0.022       0.002       0.024\n",
       "^GSPC          0.8760      0.103      8.497      0.000       0.670       1.082\n",
       "==============================================================================\n",
       "Omnibus:                        4.974   Durbin-Watson:                   1.956\n",
       "Prob(Omnibus):                  0.083   Jarque-Bera (JB):                4.412\n",
       "Skew:                           0.662   Prob(JB):                        0.110\n",
       "Kurtosis:                       3.118   Cond. No.                         19.1\n",
       "==============================================================================\n",
       "\n",
       "Notes:\n",
       "[1] Standard Errors assume that the covariance matrix of the errors is correctly specified.\n",
       "\"\"\""
      ]
     },
     "execution_count": 77,
     "metadata": {},
     "output_type": "execute_result"
    }
   ],
   "source": [
    "results=model.fit()\n",
    "results.summary()"
   ]
  },
  {
   "cell_type": "markdown",
   "id": "10a49300",
   "metadata": {},
   "source": [
    "## Lets visualize"
   ]
  },
  {
   "cell_type": "code",
   "execution_count": 78,
   "id": "a3552b4b",
   "metadata": {},
   "outputs": [],
   "source": [
    "import seaborn as sns\n"
   ]
  },
  {
   "cell_type": "code",
   "execution_count": 79,
   "id": "4fe4f651",
   "metadata": {},
   "outputs": [
    {
     "data": {
      "image/png": "[encoded data removed]",
      "text/plain": [
       "<Figure size 640x480 with 1 Axes>"
      ]
     },
     "metadata": {},
     "output_type": "display_data"
    }
   ],
   "source": [
    "sns.regplot(x='^GSPC',y='MSFT',data=mtl_ret,ci=None)\n",
    "plt.show()"
   ]
  },
  {
   "cell_type": "markdown",
   "id": "8f39d953",
   "metadata": {},
   "source": [
    "## Now lets take risk free rate of return into consideraion"
   ]
  },
  {
   "cell_type": "code",
   "execution_count": 80,
   "id": "e17b707a",
   "metadata": {},
   "outputs": [
    {
     "data": {
      "text/plain": [
       "Date\n",
       "2019-04    0.21\n",
       "2019-05    0.21\n",
       "2019-06    0.18\n",
       "2019-07    0.19\n",
       "2019-08    0.16\n",
       "Freq: M, Name: RF, dtype: float64"
      ]
     },
     "execution_count": 80,
     "metadata": {},
     "output_type": "execute_result"
    }
   ],
   "source": [
    "rf=reader.DataReader('F-F_research_Data_Factors','famafrench',start,end)[0].RF\n",
    "rf.head()"
   ]
  },
  {
   "cell_type": "code",
   "execution_count": 91,
   "id": "8e761f46",
   "metadata": {},
   "outputs": [],
   "source": [
    "rf=rf[:-1]\n",
    "\n",
    "\n"
   ]
  },
  {
   "cell_type": "markdown",
   "id": "3deca9a5",
   "metadata": {},
   "source": [
    "## Lets substract the risk free rate to get 'Excess Return'"
   ]
  },
  {
   "cell_type": "code",
   "execution_count": 95,
   "id": "5461db65",
   "metadata": {},
   "outputs": [],
   "source": [
    "mtl_ret['MSFT-rf'],mtl_ret['^GSPC-rf']=mtl_ret['MSFT']-rf.values,mtl_ret['^GSPC']-rf.values\n",
    "# mtl_ret=mtl_ret[:-2]"
   ]
  },
  {
   "cell_type": "code",
   "execution_count": 96,
   "id": "969ce47e",
   "metadata": {},
   "outputs": [
    {
     "data": {
      "text/html": [
       "<div>\n",
       "<style scoped>\n",
       "    .dataframe tbody tr th:only-of-type {\n",
       "        vertical-align: middle;\n",
       "    }\n",
       "\n",
       "    .dataframe tbody tr th {\n",
       "        vertical-align: top;\n",
       "    }\n",
       "\n",
       "    .dataframe thead th {\n",
       "        text-align: right;\n",
       "    }\n",
       "</style>\n",
       "<table border=\"1\" class=\"dataframe\">\n",
       "  <thead>\n",
       "    <tr style=\"text-align: right;\">\n",
       "      <th></th>\n",
       "      <th>MSFT</th>\n",
       "      <th>^GSPC</th>\n",
       "      <th>MSFT-rt</th>\n",
       "      <th>^GSPC-rf</th>\n",
       "      <th>MSFT-rf</th>\n",
       "    </tr>\n",
       "    <tr>\n",
       "      <th>Date</th>\n",
       "      <th></th>\n",
       "      <th></th>\n",
       "      <th></th>\n",
       "      <th></th>\n",
       "      <th></th>\n",
       "    </tr>\n",
       "  </thead>\n",
       "  <tbody>\n",
       "    <tr>\n",
       "      <th>2019-05-31</th>\n",
       "      <td>-0.049481</td>\n",
       "      <td>-0.065778</td>\n",
       "      <td>-0.259481</td>\n",
       "      <td>-0.275778</td>\n",
       "      <td>-0.259481</td>\n",
       "    </tr>\n",
       "    <tr>\n",
       "      <th>2019-06-30</th>\n",
       "      <td>0.083118</td>\n",
       "      <td>0.068930</td>\n",
       "      <td>-0.096882</td>\n",
       "      <td>-0.111070</td>\n",
       "      <td>-0.096882</td>\n",
       "    </tr>\n",
       "    <tr>\n",
       "      <th>2019-07-31</th>\n",
       "      <td>0.017244</td>\n",
       "      <td>0.013128</td>\n",
       "      <td>-0.172756</td>\n",
       "      <td>-0.176872</td>\n",
       "      <td>-0.172756</td>\n",
       "    </tr>\n",
       "    <tr>\n",
       "      <th>2019-08-31</th>\n",
       "      <td>0.015037</td>\n",
       "      <td>-0.018092</td>\n",
       "      <td>-0.144963</td>\n",
       "      <td>-0.178092</td>\n",
       "      <td>-0.144963</td>\n",
       "    </tr>\n",
       "    <tr>\n",
       "      <th>2019-09-30</th>\n",
       "      <td>0.008487</td>\n",
       "      <td>0.017181</td>\n",
       "      <td>-0.171513</td>\n",
       "      <td>-0.162819</td>\n",
       "      <td>-0.171513</td>\n",
       "    </tr>\n",
       "  </tbody>\n",
       "</table>\n",
       "</div>"
      ],
      "text/plain": [
       "                MSFT     ^GSPC   MSFT-rt  ^GSPC-rf   MSFT-rf\n",
       "Date                                                        \n",
       "2019-05-31 -0.049481 -0.065778 -0.259481 -0.275778 -0.259481\n",
       "2019-06-30  0.083118  0.068930 -0.096882 -0.111070 -0.096882\n",
       "2019-07-31  0.017244  0.013128 -0.172756 -0.176872 -0.172756\n",
       "2019-08-31  0.015037 -0.018092 -0.144963 -0.178092 -0.144963\n",
       "2019-09-30  0.008487  0.017181 -0.171513 -0.162819 -0.171513"
      ]
     },
     "execution_count": 96,
     "metadata": {},
     "output_type": "execute_result"
    }
   ],
   "source": [
    "mtl_ret.head()"
   ]
  },
  {
   "cell_type": "markdown",
   "id": "17ca2a13",
   "metadata": {},
   "source": [
    "## Building the regression model from above again"
   ]
  },
  {
   "cell_type": "code",
   "execution_count": 97,
   "id": "95da2a8f",
   "metadata": {},
   "outputs": [],
   "source": [
    "X=mtl_ret['^GSPC-rf']\n",
    "y=mtl_ret['MSFT-rf']"
   ]
  },
  {
   "cell_type": "code",
   "execution_count": 98,
   "id": "a46f96a7",
   "metadata": {},
   "outputs": [],
   "source": [
    "X_sm=sm.add_constant(X)"
   ]
  },
  {
   "cell_type": "code",
   "execution_count": 99,
   "id": "40a1e5a2",
   "metadata": {},
   "outputs": [],
   "source": [
    "model=sm.OLS(y,X_sm)"
   ]
  },
  {
   "cell_type": "code",
   "execution_count": 100,
   "id": "db584183",
   "metadata": {},
   "outputs": [],
   "source": [
    "results=model.fit()"
   ]
  },
  {
   "cell_type": "code",
   "execution_count": 101,
   "id": "8628ccea",
   "metadata": {},
   "outputs": [
    {
     "data": {
      "text/html": [
       "<table class=\"simpletable\">\n",
       "<caption>OLS Regression Results</caption>\n",
       "<tr>\n",
       "  <th>Dep. Variable:</th>         <td>MSFT-rf</td>     <th>  R-squared:         </th> <td>   0.936</td>\n",
       "</tr>\n",
       "<tr>\n",
       "  <th>Model:</th>                   <td>OLS</td>       <th>  Adj. R-squared:    </th> <td>   0.935</td>\n",
       "</tr>\n",
       "<tr>\n",
       "  <th>Method:</th>             <td>Least Squares</td>  <th>  F-statistic:       </th> <td>   780.4</td>\n",
       "</tr>\n",
       "<tr>\n",
       "  <th>Date:</th>             <td>Sun, 07 Apr 2024</td> <th>  Prob (F-statistic):</th> <td>2.20e-33</td>\n",
       "</tr>\n",
       "<tr>\n",
       "  <th>Time:</th>                 <td>01:19:36</td>     <th>  Log-Likelihood:    </th> <td>  96.859</td>\n",
       "</tr>\n",
       "<tr>\n",
       "  <th>No. Observations:</th>      <td>    55</td>      <th>  AIC:               </th> <td>  -189.7</td>\n",
       "</tr>\n",
       "<tr>\n",
       "  <th>Df Residuals:</th>          <td>    53</td>      <th>  BIC:               </th> <td>  -185.7</td>\n",
       "</tr>\n",
       "<tr>\n",
       "  <th>Df Model:</th>              <td>     1</td>      <th>                     </th>     <td> </td>   \n",
       "</tr>\n",
       "<tr>\n",
       "  <th>Covariance Type:</th>      <td>nonrobust</td>    <th>                     </th>     <td> </td>   \n",
       "</tr>\n",
       "</table>\n",
       "<table class=\"simpletable\">\n",
       "<tr>\n",
       "      <td></td>        <th>coef</th>     <th>std err</th>      <th>t</th>      <th>P>|t|</th>  <th>[0.025</th>    <th>0.975]</th>  \n",
       "</tr>\n",
       "<tr>\n",
       "  <th>const</th>    <td>    0.0071</td> <td>    0.007</td> <td>    0.983</td> <td> 0.330</td> <td>   -0.007</td> <td>    0.022</td>\n",
       "</tr>\n",
       "<tr>\n",
       "  <th>^GSPC-rf</th> <td>    0.9547</td> <td>    0.034</td> <td>   27.936</td> <td> 0.000</td> <td>    0.886</td> <td>    1.023</td>\n",
       "</tr>\n",
       "</table>\n",
       "<table class=\"simpletable\">\n",
       "<tr>\n",
       "  <th>Omnibus:</th>       <td> 3.179</td> <th>  Durbin-Watson:     </th> <td>   1.896</td>\n",
       "</tr>\n",
       "<tr>\n",
       "  <th>Prob(Omnibus):</th> <td> 0.204</td> <th>  Jarque-Bera (JB):  </th> <td>   2.501</td>\n",
       "</tr>\n",
       "<tr>\n",
       "  <th>Skew:</th>          <td> 0.517</td> <th>  Prob(JB):          </th> <td>   0.286</td>\n",
       "</tr>\n",
       "<tr>\n",
       "  <th>Kurtosis:</th>      <td> 3.150</td> <th>  Cond. No.          </th> <td>    6.09</td>\n",
       "</tr>\n",
       "</table><br/><br/>Notes:<br/>[1] Standard Errors assume that the covariance matrix of the errors is correctly specified."
      ],
      "text/latex": [
       "\\begin{center}\n",
       "\\begin{tabular}{lclc}\n",
       "\\toprule\n",
       "\\textbf{Dep. Variable:}    &     MSFT-rf      & \\textbf{  R-squared:         } &     0.936   \\\\\n",
       "\\textbf{Model:}            &       OLS        & \\textbf{  Adj. R-squared:    } &     0.935   \\\\\n",
       "\\textbf{Method:}           &  Least Squares   & \\textbf{  F-statistic:       } &     780.4   \\\\\n",
       "\\textbf{Date:}             & Sun, 07 Apr 2024 & \\textbf{  Prob (F-statistic):} &  2.20e-33   \\\\\n",
       "\\textbf{Time:}             &     01:19:36     & \\textbf{  Log-Likelihood:    } &    96.859   \\\\\n",
       "\\textbf{No. Observations:} &          55      & \\textbf{  AIC:               } &    -189.7   \\\\\n",
       "\\textbf{Df Residuals:}     &          53      & \\textbf{  BIC:               } &    -185.7   \\\\\n",
       "\\textbf{Df Model:}         &           1      & \\textbf{                     } &             \\\\\n",
       "\\textbf{Covariance Type:}  &    nonrobust     & \\textbf{                     } &             \\\\\n",
       "\\bottomrule\n",
       "\\end{tabular}\n",
       "\\begin{tabular}{lcccccc}\n",
       "                  & \\textbf{coef} & \\textbf{std err} & \\textbf{t} & \\textbf{P$> |$t$|$} & \\textbf{[0.025} & \\textbf{0.975]}  \\\\\n",
       "\\midrule\n",
       "\\textbf{const}    &       0.0071  &        0.007     &     0.983  &         0.330        &       -0.007    &        0.022     \\\\\n",
       "\\textbf{^GSPC-rf} &       0.9547  &        0.034     &    27.936  &         0.000        &        0.886    &        1.023     \\\\\n",
       "\\bottomrule\n",
       "\\end{tabular}\n",
       "\\begin{tabular}{lclc}\n",
       "\\textbf{Omnibus:}       &  3.179 & \\textbf{  Durbin-Watson:     } &    1.896  \\\\\n",
       "\\textbf{Prob(Omnibus):} &  0.204 & \\textbf{  Jarque-Bera (JB):  } &    2.501  \\\\\n",
       "\\textbf{Skew:}          &  0.517 & \\textbf{  Prob(JB):          } &    0.286  \\\\\n",
       "\\textbf{Kurtosis:}      &  3.150 & \\textbf{  Cond. No.          } &     6.09  \\\\\n",
       "\\bottomrule\n",
       "\\end{tabular}\n",
       "%\\caption{OLS Regression Results}\n",
       "\\end{center}\n",
       "\n",
       "Notes: \\newline\n",
       " [1] Standard Errors assume that the covariance matrix of the errors is correctly specified."
      ],
      "text/plain": [
       "<class 'statsmodels.iolib.summary.Summary'>\n",
       "\"\"\"\n",
       "                            OLS Regression Results                            \n",
       "==============================================================================\n",
       "Dep. Variable:                MSFT-rf   R-squared:                       0.936\n",
       "Model:                            OLS   Adj. R-squared:                  0.935\n",
       "Method:                 Least Squares   F-statistic:                     780.4\n",
       "Date:                Sun, 07 Apr 2024   Prob (F-statistic):           2.20e-33\n",
       "Time:                        01:19:36   Log-Likelihood:                 96.859\n",
       "No. Observations:                  55   AIC:                            -189.7\n",
       "Df Residuals:                      53   BIC:                            -185.7\n",
       "Df Model:                           1                                         \n",
       "Covariance Type:            nonrobust                                         \n",
       "==============================================================================\n",
       "                 coef    std err          t      P>|t|      [0.025      0.975]\n",
       "------------------------------------------------------------------------------\n",
       "const          0.0071      0.007      0.983      0.330      -0.007       0.022\n",
       "^GSPC-rf       0.9547      0.034     27.936      0.000       0.886       1.023\n",
       "==============================================================================\n",
       "Omnibus:                        3.179   Durbin-Watson:                   1.896\n",
       "Prob(Omnibus):                  0.204   Jarque-Bera (JB):                2.501\n",
       "Skew:                           0.517   Prob(JB):                        0.286\n",
       "Kurtosis:                       3.150   Cond. No.                         6.09\n",
       "==============================================================================\n",
       "\n",
       "Notes:\n",
       "[1] Standard Errors assume that the covariance matrix of the errors is correctly specified.\n",
       "\"\"\""
      ]
     },
     "execution_count": 101,
     "metadata": {},
     "output_type": "execute_result"
    }
   ],
   "source": [
    "results.summary()"
   ]
  },
  {
   "cell_type": "code",
   "execution_count": 103,
   "id": "e9f3d5a9",
   "metadata": {},
   "outputs": [
    {
     "data": {
      "image/png": "[encoded data removed]",
      "text/plain": [
       "<Figure size 640x480 with 1 Axes>"
      ]
     },
     "metadata": {},
     "output_type": "display_data"
    }
   ],
   "source": [
    "sns.regplot(x='^GSPC-rf',y='MSFT-rf',data=mtl_ret,ci=0)\n",
    "plt.show()"
   ]
  },
  {
   "cell_type": "code",
   "execution_count": null,
   "id": "b9232597",
   "metadata": {},
   "outputs": [],
   "source": []
  }
 ],
 "metadata": {
  "kernelspec": {
   "display_name": "Python 3 (ipykernel)",
   "language": "python",
   "name": "python3"
  },
  "language_info": {
   "codemirror_mode": {
    "name": "ipython",
    "version": 3
   },
   "file_extension": ".py",
   "mimetype": "text/x-python",
   "name": "python",
   "nbconvert_exporter": "python",
   "pygments_lexer": "ipython3",
   "version": "3.11.4"
  }
 },
 "nbformat": 4,
 "nbformat_minor": 5
}
