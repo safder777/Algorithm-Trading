{
 "cells": [
  {
   "cell_type": "code",
   "execution_count": 1,
   "id": "ddb3b6d4",
   "metadata": {},
   "outputs": [
    {
     "name": "stdout",
     "output_type": "stream",
     "text": [
      "Collecting forex-python\n",
      "  Obtaining dependency information for forex-python from https://files.pythonhosted.org/packages/73/1c/3beb86109639e4f0bae990b392c973ef4766c72f532c94a20e6019bea2cb/forex_python-1.8-py3-none-any.whl.metadata\n",
      "  Downloading forex_python-1.8-py3-none-any.whl.metadata (1.3 kB)\n",
      "Requirement already satisfied: requests in c:\\users\\safde\\anaconda3\\lib\\site-packages (from forex-python) (2.31.0)\n",
      "Collecting simplejson (from forex-python)\n",
      "  Obtaining dependency information for simplejson from https://files.pythonhosted.org/packages/b6/8e/3e12d122dfdf549a8d12eaf39954ee39f2027060aa38b63430f8ab3244e7/simplejson-3.19.2-cp311-cp311-win_amd64.whl.metadata\n",
      "  Downloading simplejson-3.19.2-cp311-cp311-win_amd64.whl.metadata (3.2 kB)\n",
      "Requirement already satisfied: charset-normalizer<4,>=2 in c:\\users\\safde\\anaconda3\\lib\\site-packages (from requests->forex-python) (2.0.4)\n",
      "Requirement already satisfied: idna<4,>=2.5 in c:\\users\\safde\\anaconda3\\lib\\site-packages (from requests->forex-python) (3.4)\n",
      "Requirement already satisfied: urllib3<3,>=1.21.1 in c:\\users\\safde\\anaconda3\\lib\\site-packages (from requests->forex-python) (1.26.16)\n",
      "Requirement already satisfied: certifi>=2017.4.17 in c:\\users\\safde\\anaconda3\\lib\\site-packages (from requests->forex-python) (2023.7.22)\n",
      "Downloading forex_python-1.8-py3-none-any.whl (8.2 kB)\n",
      "Downloading simplejson-3.19.2-cp311-cp311-win_amd64.whl (75 kB)\n",
      "   ---------------------------------------- 0.0/75.3 kB ? eta -:--:--\n",
      "   -------------------------------- ------- 61.4/75.3 kB 1.6 MB/s eta 0:00:01\n",
      "   ---------------------------------------- 75.3/75.3 kB 2.0 MB/s eta 0:00:00\n",
      "Installing collected packages: simplejson, forex-python\n",
      "Successfully installed forex-python-1.8 simplejson-3.19.2\n",
      "Note: you may need to restart the kernel to use updated packages.\n"
     ]
    }
   ],
   "source": [
    "pip install forex-python"
   ]
  },
  {
   "cell_type": "code",
   "execution_count": 30,
   "id": "bd8c725c",
   "metadata": {},
   "outputs": [],
   "source": [
    "from forex_python.converter import CurrencyRates\n",
    "import datetime as dt\n",
    "date=dt.datetime(2024,3,31)"
   ]
  },
  {
   "cell_type": "code",
   "execution_count": 31,
   "id": "f14d5658",
   "metadata": {},
   "outputs": [],
   "source": [
    "c=CurrencyRates()"
   ]
  },
  {
   "cell_type": "code",
   "execution_count": 32,
   "id": "23655144",
   "metadata": {},
   "outputs": [
    {
     "name": "stdout",
     "output_type": "stream",
     "text": [
      "{'EUR': 0.9286775631500743, 'JPY': 150.33432392273403, 'BGN': 1.8163075780089153, 'CZK': 23.64413075780089, 'DKK': 6.922919762258544, 'GBP': 0.794994427934621, 'HUF': 361.3763001485884, 'PLN': 4.030460624071322, 'RON': 4.622121099554235, 'SEK': 10.462017087667162, 'CHF': 0.8814078751857356, 'ISK': 138.46582466567608, 'NOK': 10.545598068350667, 'TRY': 30.827544576523028, 'AUD': 1.5338967310549776, 'BRL': 4.973161218424963, 'CAD': 1.348254086181278, 'CNY': 7.193629271916791, 'HKD': 7.8228083209509665, 'IDR': 15636.497028231799, 'INR': 83.00659361069837, 'KRW': 1332.73588410104, 'MXN': 17.044576523031203, 'MYR': 4.780460624071322, 'NZD': 1.638930163447251, 'PHP': 55.96025260029718, 'SGD': 1.3465824665676076, 'THB': 36.059621099554235, 'ZAR': 18.886979940564636}\n"
     ]
    }
   ],
   "source": [
    "print(c.get_rates('USD'))"
   ]
  },
  {
   "cell_type": "code",
   "execution_count": 33,
   "id": "fe73fcb9",
   "metadata": {},
   "outputs": [
    {
     "name": "stdout",
     "output_type": "stream",
     "text": [
      "82.72639956092206\n"
     ]
    }
   ],
   "source": [
    "print(c.get_rate('USD','INR',date))"
   ]
  },
  {
   "cell_type": "code",
   "execution_count": 34,
   "id": "832d74b2",
   "metadata": {},
   "outputs": [],
   "source": [
    "countries=['EUR','INR',\"SEK\",'AUD','CHF']"
   ]
  },
  {
   "cell_type": "code",
   "execution_count": 35,
   "id": "fb07101d",
   "metadata": {},
   "outputs": [
    {
     "name": "stdout",
     "output_type": "stream",
     "text": [
      "USD currency rates as of 2024-03-31 00:00:00\n",
      "0.9239582370876837 EUR\n",
      "82.72639956092206 INR\n",
      "10.66043844232726 SEK\n",
      "1.536120617889187 AUD\n",
      "0.8775025139409451 CHF\n"
     ]
    }
   ],
   "source": [
    "print('USD currency rates as of {}'.format(date))\n",
    "\n",
    "for i in countries:\n",
    "    print(c.get_rate('USD',i,date),i)"
   ]
  },
  {
   "cell_type": "code",
   "execution_count": null,
   "id": "ddafc79d",
   "metadata": {},
   "outputs": [],
   "source": []
  }
 ],
 "metadata": {
  "kernelspec": {
   "display_name": "Python 3 (ipykernel)",
   "language": "python",
   "name": "python3"
  },
  "language_info": {
   "codemirror_mode": {
    "name": "ipython",
    "version": 3
   },
   "file_extension": ".py",
   "mimetype": "text/x-python",
   "name": "python",
   "nbconvert_exporter": "python",
   "pygments_lexer": "ipython3",
   "version": "3.11.4"
  }
 },
 "nbformat": 4,
 "nbformat_minor": 5
}
