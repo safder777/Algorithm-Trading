{
 "cells": [
  {
   "cell_type": "code",
   "execution_count": 1,
   "id": "5e076071",
   "metadata": {},
   "outputs": [],
   "source": [
    "import yfinance as yf\n",
    "import datetime as dt\n",
    "import matplotlib.pyplot as plt\n",
    "import numpy as np"
   ]
  },
  {
   "cell_type": "code",
   "execution_count": 2,
   "id": "c8e2213e",
   "metadata": {},
   "outputs": [],
   "source": [
    "end=dt.datetime.now()\n",
    "start=dt.datetime(end.year-10,end.month,end.day)"
   ]
  },
  {
   "cell_type": "code",
   "execution_count": 49,
   "id": "42dc9089",
   "metadata": {},
   "outputs": [],
   "source": [
    "Asset ='^BSESN' #change this to get returns of other assests like 'BTC-USD', '^BSESN',etc\n",
    "name=yf.Ticker(Asset).info['shortName'] #to remove '^DJI' from the titile of graph"
   ]
  },
  {
   "cell_type": "code",
   "execution_count": 50,
   "id": "c6aeb197",
   "metadata": {},
   "outputs": [
    {
     "name": "stdout",
     "output_type": "stream",
     "text": [
      "[*********************100%%**********************]  1 of 1 completed\n"
     ]
    },
    {
     "data": {
      "text/plain": [
       "Date\n",
       "2014-04-17    22628.839844\n",
       "2014-04-21    22764.830078\n",
       "2014-04-22    22758.369141\n",
       "2014-04-23    22876.539062\n",
       "2014-04-25    22688.070312\n",
       "                  ...     \n",
       "2024-04-09    74683.703125\n",
       "2024-04-10    75038.148438\n",
       "2024-04-12    74244.898438\n",
       "2024-04-15    73399.781250\n",
       "2024-04-16    72943.679688\n",
       "Name: Adj Close, Length: 2452, dtype: float64"
      ]
     },
     "execution_count": 50,
     "metadata": {},
     "output_type": "execute_result"
    }
   ],
   "source": [
    "prices=yf.download(Asset,start,end)['Adj Close']\n",
    "prices"
   ]
  },
  {
   "cell_type": "code",
   "execution_count": 51,
   "id": "2ea95858",
   "metadata": {},
   "outputs": [
    {
     "data": {
      "text/html": [
       "<div>\n",
       "<style scoped>\n",
       "    .dataframe tbody tr th:only-of-type {\n",
       "        vertical-align: middle;\n",
       "    }\n",
       "\n",
       "    .dataframe tbody tr th {\n",
       "        vertical-align: top;\n",
       "    }\n",
       "\n",
       "    .dataframe thead th {\n",
       "        text-align: right;\n",
       "    }\n",
       "</style>\n",
       "<table border=\"1\" class=\"dataframe\">\n",
       "  <thead>\n",
       "    <tr style=\"text-align: right;\">\n",
       "      <th></th>\n",
       "      <th>Date</th>\n",
       "      <th>Adj Close</th>\n",
       "    </tr>\n",
       "  </thead>\n",
       "  <tbody>\n",
       "    <tr>\n",
       "      <th>0</th>\n",
       "      <td>2014-12-31</td>\n",
       "      <td>0.215238</td>\n",
       "    </tr>\n",
       "    <tr>\n",
       "      <th>1</th>\n",
       "      <td>2015-12-31</td>\n",
       "      <td>-0.050251</td>\n",
       "    </tr>\n",
       "    <tr>\n",
       "      <th>2</th>\n",
       "      <td>2016-12-31</td>\n",
       "      <td>0.019486</td>\n",
       "    </tr>\n",
       "    <tr>\n",
       "      <th>3</th>\n",
       "      <td>2017-12-31</td>\n",
       "      <td>0.279060</td>\n",
       "    </tr>\n",
       "    <tr>\n",
       "      <th>4</th>\n",
       "      <td>2018-12-31</td>\n",
       "      <td>0.059063</td>\n",
       "    </tr>\n",
       "    <tr>\n",
       "      <th>5</th>\n",
       "      <td>2019-12-31</td>\n",
       "      <td>0.143766</td>\n",
       "    </tr>\n",
       "    <tr>\n",
       "      <th>6</th>\n",
       "      <td>2020-12-31</td>\n",
       "      <td>0.157503</td>\n",
       "    </tr>\n",
       "    <tr>\n",
       "      <th>7</th>\n",
       "      <td>2021-12-31</td>\n",
       "      <td>0.219941</td>\n",
       "    </tr>\n",
       "    <tr>\n",
       "      <th>8</th>\n",
       "      <td>2022-12-31</td>\n",
       "      <td>0.044408</td>\n",
       "    </tr>\n",
       "    <tr>\n",
       "      <th>9</th>\n",
       "      <td>2023-12-31</td>\n",
       "      <td>0.187367</td>\n",
       "    </tr>\n",
       "    <tr>\n",
       "      <th>10</th>\n",
       "      <td>2024-12-31</td>\n",
       "      <td>0.009737</td>\n",
       "    </tr>\n",
       "  </tbody>\n",
       "</table>\n",
       "</div>"
      ],
      "text/plain": [
       "         Date  Adj Close\n",
       "0  2014-12-31   0.215238\n",
       "1  2015-12-31  -0.050251\n",
       "2  2016-12-31   0.019486\n",
       "3  2017-12-31   0.279060\n",
       "4  2018-12-31   0.059063\n",
       "5  2019-12-31   0.143766\n",
       "6  2020-12-31   0.157503\n",
       "7  2021-12-31   0.219941\n",
       "8  2022-12-31   0.044408\n",
       "9  2023-12-31   0.187367\n",
       "10 2024-12-31   0.009737"
      ]
     },
     "execution_count": 51,
     "metadata": {},
     "output_type": "execute_result"
    }
   ],
   "source": [
    "returns=prices.pct_change().resample('Y').agg(lambda x: (x+1).prod()-1)\n",
    "\n",
    "df_ret =returns.reset_index()\n",
    "df_ret"
   ]
  },
  {
   "cell_type": "code",
   "execution_count": 52,
   "id": "605143bd",
   "metadata": {},
   "outputs": [
    {
     "data": {
      "image/png": "[encoded data removed]",
      "text/plain": [
       "<Figure size 640x480 with 1 Axes>"
      ]
     },
     "metadata": {},
     "output_type": "display_data"
    }
   ],
   "source": [
    "plt.bar(df_ret.Date.dt.year,df_ret['Adj Close'],\n",
    "        color=(df_ret['Adj Close']>0).map({True:'green',False:'red'}),edgecolor='k')\n",
    "\n",
    "plt.axhline(0,color='grey')\n",
    "plt.title(f'Yearly returns of {name}')\n",
    "plt.xticks(np.arange(min(df_ret.Date.dt.year),max(df_ret.Date.dt.year)+1,1))\n",
    "plt.show()"
   ]
  },
  {
   "cell_type": "code",
   "execution_count": null,
   "id": "b4b089a8",
   "metadata": {},
   "outputs": [],
   "source": []
  },
  {
   "cell_type": "code",
   "execution_count": null,
   "id": "2cd3a281",
   "metadata": {},
   "outputs": [],
   "source": []
  },
  {
   "cell_type": "code",
   "execution_count": null,
   "id": "244eccc8",
   "metadata": {},
   "outputs": [],
   "source": []
  }
 ],
 "metadata": {
  "kernelspec": {
   "display_name": "Python 3 (ipykernel)",
   "language": "python",
   "name": "python3"
  },
  "language_info": {
   "codemirror_mode": {
    "name": "ipython",
    "version": 3
   },
   "file_extension": ".py",
   "mimetype": "text/x-python",
   "name": "python",
   "nbconvert_exporter": "python",
   "pygments_lexer": "ipython3",
   "version": "3.11.4"
  }
 },
 "nbformat": 4,
 "nbformat_minor": 5
}
